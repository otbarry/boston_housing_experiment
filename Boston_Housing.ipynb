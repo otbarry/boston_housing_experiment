{
  "nbformat": 4,
  "nbformat_minor": 0,
  "metadata": {
    "colab": {
      "provenance": []
    },
    "kernelspec": {
      "name": "python3",
      "display_name": "Python 3"
    },
    "language_info": {
      "name": "python"
    }
  },
  "cells": [
    {
      "cell_type": "markdown",
      "source": [
        "#The effect of price salience on willingness to rent and perceived fairness of price in the Boston housing market"
      ],
      "metadata": {
        "id": "777lBxrwJVAd"
      }
    },
    {
      "cell_type": "markdown",
      "source": [
        "Team 10: Alima Abdirova, Dhruv Shah, Jessica Tong, Oumou Barry, Sonya Dreyer"
      ],
      "metadata": {
        "id": "cd-jZbTmL9t8"
      }
    },
    {
      "cell_type": "markdown",
      "source": [
        ">[The effect of price salience on willingness to rent and perceived fairness of price in the Boston housing market](#scrollTo=777lBxrwJVAd)\n",
        "\n",
        ">>[Data Processing](#scrollTo=FSi8T0rFTcky)\n",
        "\n",
        ">>[Exploratory Data Analysis](#scrollTo=uvTUjrisTZtW)\n",
        "\n",
        ">>>[The distribution of respondents in treatment vs control group](#scrollTo=fRmkIBR4SrOm)\n",
        "\n",
        ">>>[Distribution of respondents according to their location](#scrollTo=rZz2YW0VQuCk)\n",
        "\n",
        ">>>[Distribution of respondents according to their Genders](#scrollTo=cFJ_hjz2RY9Q)\n",
        "\n",
        ">>>[Distribution of respondents according to their Age](#scrollTo=KTZCLnmzR-C0)\n",
        "\n",
        ">>>[Distribution of respondents according to their Employment Status](#scrollTo=YfCfS3-LPmBJ)\n",
        "\n",
        ">>>[Distribution of respondents according to their Rent Budget](#scrollTo=pX_fls3bSdT7)\n",
        "\n",
        ">>>[Likelihood to Lease by Apartment Type (Treatment vs Control)](#scrollTo=X454ZTgfQKEL)\n",
        "\n",
        ">>>[Average Price Perception by Apartment Type (Treatment vs Control)](#scrollTo=IeFyUNo1R3Jx)\n",
        "\n",
        ">>>[Count of Price Perception by Apartment Type](#scrollTo=_fZgZXcgSCJ7)\n",
        "\n",
        ">>>[Count of Lease Likelihood by Apartment Type](#scrollTo=odjwBK6hSPtx)\n",
        "\n",
        ">>[Average Treatment Effect](#scrollTo=_fwxNYy1_thw)\n",
        "\n",
        ">>>[ATE Calculation for Likelihood of renting](#scrollTo=iWaeQatCT1rb)\n",
        "\n",
        ">>>[ATE Calculation for Price perception](#scrollTo=xMesiUOxUAj8)\n",
        "\n",
        ">>>[ATE Calculation for Price suggestion](#scrollTo=oTYC8HB5UH9u)\n",
        "\n",
        ">>[Statistical power calculation](#scrollTo=QxOjJZuDDpPm)\n",
        "\n",
        ">>>[Minimum Sample Size Calculation](#scrollTo=t3DVcTX7GmvZ)\n",
        "\n",
        ">>[Conditional Average Treatment Effect](#scrollTo=OE64T1NUAjK1)\n",
        "\n",
        ">>>[Conditional Average Treatment Effect for Male Respondents](#scrollTo=k0jRWrD8XQoq)\n",
        "\n",
        ">>>[Conditional Average Treatment Effect for Female Respondents](#scrollTo=WgRcFzoyXpyH)\n",
        "\n",
        ">>>[Conditional Average Treatment Effect for Respondents residing in Boston](#scrollTo=gLehm8lQXtPk)\n",
        "\n",
        ">>>[Conditional Average Treatment Effect for Respondents residing out of Boston](#scrollTo=FlXDCzSAXx9T)\n",
        "\n",
        ">>>[Conditional Average Treatment Effect for Respondents that are Unemployed](#scrollTo=Jtj6tZh3X84u)\n",
        "\n",
        ">>>[Conditional Average Treatment Effect for Respondents that are Employed](#scrollTo=a8B_Iih6YPFR)\n",
        "\n",
        ">>[Proportion Test](#scrollTo=n61WfT1Ib1ui)\n",
        "\n",
        ">>[Regression Analysis](#scrollTo=Sw5vE8ILalZ8)\n",
        "\n",
        ">>>[Regression Analysis for Likelihood to lease outcome](#scrollTo=XJf5FkAqdfus)\n",
        "\n",
        ">>>[Regression Analysis for Likelihood to lease outcome with Fixed effects](#scrollTo=ytK7fiWHY_HH)\n",
        "\n",
        ">>>[Regression Analysis for Price Perception outcome](#scrollTo=tlXozO7FdJh2)\n",
        "\n",
        ">>>[Regression Analysis for Price Perception outcome with Fixed effects](#scrollTo=2z5x_H-eZY9f)\n",
        "\n",
        ">>>[Regression Analysis for Price Suggestion outcome](#scrollTo=67a6sLSsdQAf)\n",
        "\n",
        ">>>[Regression Analysis for Price Suggestion outcome with Fixed effects](#scrollTo=VLIRdSrzZm5-)\n",
        "\n",
        ">>>[Scatterplot for Price Suggestion vs Age with the regression line](#scrollTo=0L6uZLE4CMhK)\n",
        "\n",
        ">>>[Scatterplot for Price Suggestion vs Rent Budget with the regression line](#scrollTo=el7BxFlaCUWD)\n",
        "\n"
      ],
      "metadata": {
        "colab_type": "toc",
        "id": "1Drsd4zWCiyI"
      }
    },
    {
      "cell_type": "markdown",
      "source": [
        "## Data Processing"
      ],
      "metadata": {
        "id": "FSi8T0rFTcky"
      }
    },
    {
      "cell_type": "code",
      "source": [
        "!pip install pingouin\n",
        "!pip install Stargazer\n",
        "!pip install pyfixest"
      ],
      "metadata": {
        "id": "J5RDTgfXU4Qm"
      },
      "execution_count": null,
      "outputs": []
    },
    {
      "cell_type": "code",
      "source": [
        "# Importing necessary libraries\n",
        "import pandas as pd\n",
        "import matplotlib.pyplot as plt\n",
        "import numpy as np\n",
        "import seaborn as sns\n",
        "from statsmodels.stats.power import TTestPower\n",
        "from statsmodels.stats.proportion import proportions_ztest\n",
        "import statsmodels.api as sm\n",
        "from stargazer.stargazer import Stargazer\n",
        "from pyfixest.estimation import feols\n",
        "from pyfixest.utils import get_data\n",
        "from pyfixest.summarize import etable\n",
        "from stargazer.stargazer import Stargazer"
      ],
      "metadata": {
        "id": "cLRXoxR0Q-Hm"
      },
      "execution_count": 2,
      "outputs": []
    },
    {
      "cell_type": "code",
      "source": [
        "!git clone https://github.com/dhruvds58/boston-housing-business-experiment\n"
      ],
      "metadata": {
        "colab": {
          "base_uri": "https://localhost:8080/"
        },
        "id": "cxfoJXLVJ_Qy",
        "outputId": "82ecd6d5-ba76-4da3-8ed7-d45d0beaacff"
      },
      "execution_count": 3,
      "outputs": [
        {
          "output_type": "stream",
          "name": "stdout",
          "text": [
            "Cloning into 'boston-housing-business-experiment'...\n",
            "remote: Enumerating objects: 6, done.\u001b[K\n",
            "remote: Counting objects: 100% (6/6), done.\u001b[K\n",
            "remote: Compressing objects: 100% (6/6), done.\u001b[K\n",
            "remote: Total 6 (delta 0), reused 0 (delta 0), pack-reused 0\u001b[K\n",
            "Receiving objects: 100% (6/6), 43.22 KiB | 1.66 MiB/s, done.\n"
          ]
        }
      ]
    },
    {
      "cell_type": "code",
      "source": [
        "!wget https://github.com/dhruvds58/boston-housing-business-experiment/blob/main/boston_housing_survey_results.xlsx\n"
      ],
      "metadata": {
        "id": "EDY3vh02w1-a",
        "colab": {
          "base_uri": "https://localhost:8080/"
        },
        "outputId": "eef74005-84e1-4ed8-cc5e-874e9c02cce6"
      },
      "execution_count": 4,
      "outputs": [
        {
          "output_type": "stream",
          "name": "stdout",
          "text": [
            "--2024-03-08 03:04:50--  https://github.com/dhruvds58/boston-housing-business-experiment/blob/main/boston_housing_survey_results.xlsx\n",
            "Resolving github.com (github.com)... 140.82.113.3\n",
            "Connecting to github.com (github.com)|140.82.113.3|:443... connected.\n",
            "HTTP request sent, awaiting response... 200 OK\n",
            "Length: 3729 (3.6K) [text/plain]\n",
            "Saving to: ‘boston_housing_survey_results.xlsx’\n",
            "\n",
            "boston_housing_surv 100%[===================>]   3.64K  --.-KB/s    in 0s      \n",
            "\n",
            "2024-03-08 03:04:51 (21.3 MB/s) - ‘boston_housing_survey_results.xlsx’ saved [3729/3729]\n",
            "\n"
          ]
        }
      ]
    },
    {
      "cell_type": "code",
      "source": [
        "df = pd.read_excel('/content/boston-housing-business-experiment/boston_housing_survey_results.xlsx')"
      ],
      "metadata": {
        "id": "WYKQvyASLgxu"
      },
      "execution_count": 5,
      "outputs": []
    },
    {
      "cell_type": "code",
      "source": [
        "df.info()"
      ],
      "metadata": {
        "id": "TfI7WiY9Rl4O",
        "colab": {
          "base_uri": "https://localhost:8080/"
        },
        "outputId": "96f825f9-b694-4869-8b30-120348a4161e"
      },
      "execution_count": 6,
      "outputs": [
        {
          "output_type": "stream",
          "name": "stdout",
          "text": [
            "<class 'pandas.core.frame.DataFrame'>\n",
            "RangeIndex: 79 entries, 0 to 78\n",
            "Data columns (total 40 columns):\n",
            " #   Column                          Non-Null Count  Dtype         \n",
            "---  ------                          --------------  -----         \n",
            " 0   Duration (in seconds)           79 non-null     int64         \n",
            " 1   RecordedDate                    79 non-null     datetime64[ns]\n",
            " 2   ResponseId                      79 non-null     object        \n",
            " 3   Q1_Treatment_Lease              35 non-null     object        \n",
            " 4   Q2_Treatment_Price_Perception   35 non-null     object        \n",
            " 5   Q3_Treatment_Price_Suggestion   17 non-null     float64       \n",
            " 6   Q4_Treatment_Lease              35 non-null     object        \n",
            " 7   Q5_Treatment_Price_Perception   35 non-null     object        \n",
            " 8   Q6_Treatment_Price_Suggestion   18 non-null     float64       \n",
            " 9   Q7_Treatment_Lease              35 non-null     object        \n",
            " 10  Q8_Treatment_Price_Perception   35 non-null     object        \n",
            " 11  Q9_Treatment_Price_Suggestion   21 non-null     float64       \n",
            " 12  Q10_Treatment_Lease             35 non-null     object        \n",
            " 13  Q11_Treatment_Price_Perception  35 non-null     object        \n",
            " 14  Q12_Treatment_Price_Suggestion  17 non-null     float64       \n",
            " 15  Q13_Treatment_Lease             35 non-null     object        \n",
            " 16  Q14_Treatment_Price_Perception  35 non-null     object        \n",
            " 17  Q15_Treatment_Price_Suggestion  27 non-null     float64       \n",
            " 18  Q1_Control_Lease                44 non-null     object        \n",
            " 19  Q2_Control_Price_Perception     44 non-null     object        \n",
            " 20  Q3_Control_Price_Suggestion     14 non-null     float64       \n",
            " 21  Q4_Control_Lease                44 non-null     object        \n",
            " 22  Q5_Control_Price_Perception     44 non-null     object        \n",
            " 23  Q6_Control_Price_Suggestion     19 non-null     float64       \n",
            " 24  Q7_Control_Lease                44 non-null     object        \n",
            " 25  Q8_Control_Price_Perception     44 non-null     object        \n",
            " 26  Q9_Control_Price_Suggestion     19 non-null     float64       \n",
            " 27  Q10_Control_Lease               44 non-null     object        \n",
            " 28  Q11_Control_Price_Perception    44 non-null     object        \n",
            " 29  Q12_Control_Price_Suggestion    24 non-null     float64       \n",
            " 30  Q13_Control_Lease               44 non-null     object        \n",
            " 31  Q14_Control_Price_Perception    44 non-null     object        \n",
            " 32  Q15_Control_Price_Suggestion    35 non-null     float64       \n",
            " 33  email                           79 non-null     object        \n",
            " 34  age                             79 non-null     int64         \n",
            " 35  gender                          79 non-null     object        \n",
            " 36  location_boston                 79 non-null     object        \n",
            " 37  employment_status               79 non-null     object        \n",
            " 38  rent_budget                     56 non-null     float64       \n",
            " 39  Treatment                       79 non-null     object        \n",
            "dtypes: datetime64[ns](1), float64(11), int64(2), object(26)\n",
            "memory usage: 24.8+ KB\n"
          ]
        }
      ]
    },
    {
      "cell_type": "code",
      "source": [
        "df.head()"
      ],
      "metadata": {
        "id": "Mbw-WXAHPK2E",
        "colab": {
          "base_uri": "https://localhost:8080/",
          "height": 377
        },
        "outputId": "29ca3b51-a7e3-4394-9b54-c52550f8617c"
      },
      "execution_count": 7,
      "outputs": [
        {
          "output_type": "execute_result",
          "data": {
            "text/plain": [
              "   Duration (in seconds)            RecordedDate         ResponseId  \\\n",
              "0                    339 2024-02-27 13:04:41.032  R_60cPchGG1ACUq0t   \n",
              "1                    188 2024-02-27 13:31:33.026  R_6S90sCDjHlApWi5   \n",
              "2                    211 2024-02-27 13:32:06.831  R_7K2bh7BIOYgSjH8   \n",
              "3                    240 2024-02-27 13:34:30.039  R_1Jyl3F1WFVWVuqg   \n",
              "4                    199 2024-02-27 13:39:37.195  R_7g2BZfZeoi7Nhu7   \n",
              "\n",
              "  Q1_Treatment_Lease Q2_Treatment_Price_Perception  \\\n",
              "0                NaN                           NaN   \n",
              "1   Extremely likely                 Fairly priced   \n",
              "2                NaN                           NaN   \n",
              "3                NaN                           NaN   \n",
              "4                NaN                           NaN   \n",
              "\n",
              "   Q3_Treatment_Price_Suggestion Q4_Treatment_Lease  \\\n",
              "0                            NaN                NaN   \n",
              "1                            NaN    Somewhat likely   \n",
              "2                            NaN                NaN   \n",
              "3                            NaN                NaN   \n",
              "4                            NaN                NaN   \n",
              "\n",
              "  Q5_Treatment_Price_Perception  Q6_Treatment_Price_Suggestion  \\\n",
              "0                           NaN                            NaN   \n",
              "1                    Overpriced                          900.0   \n",
              "2                           NaN                            NaN   \n",
              "3                           NaN                            NaN   \n",
              "4                           NaN                            NaN   \n",
              "\n",
              "  Q7_Treatment_Lease  ...            Q13_Control_Lease  \\\n",
              "0                NaN  ...            Somewhat unlikely   \n",
              "1  Somewhat unlikely  ...                          NaN   \n",
              "2                NaN  ...  Neither likely nor unlikely   \n",
              "3                NaN  ...  Neither likely nor unlikely   \n",
              "4                NaN  ...           Extremely unlikely   \n",
              "\n",
              "   Q14_Control_Price_Perception Q15_Control_Price_Suggestion  \\\n",
              "0                    Overpriced                       2600.0   \n",
              "1                           NaN                          NaN   \n",
              "2                 Fairly priced                          NaN   \n",
              "3                    Overpriced                       2200.0   \n",
              "4                    Overpriced                       2400.0   \n",
              "\n",
              "                     email  age           gender location_boston  \\\n",
              "0            bychan@bu.edu   22              Man             Yes   \n",
              "1            neehak@bu.edu   23            Woman             Yes   \n",
              "2  rifat.maxytow@gmail.com   23  Transgender Man             Yes   \n",
              "3        8250139@gmail.com   20              Man             Yes   \n",
              "4          prudhvir@bu.edu   25              Man             Yes   \n",
              "\n",
              "    employment_status rent_budget Treatment  \n",
              "0  Employed Part-time      1700.0    Block2  \n",
              "1  Employed Part-time      1000.0    Block1  \n",
              "2  Employed Full-time       900.0    Block2  \n",
              "3          Unemployed      3500.0    Block2  \n",
              "4  Employed Part-time       900.0    Block2  \n",
              "\n",
              "[5 rows x 40 columns]"
            ],
            "text/html": [
              "\n",
              "  <div id=\"df-0cfcda17-87d6-4d76-837f-d77684e8da83\" class=\"colab-df-container\">\n",
              "    <div>\n",
              "<style scoped>\n",
              "    .dataframe tbody tr th:only-of-type {\n",
              "        vertical-align: middle;\n",
              "    }\n",
              "\n",
              "    .dataframe tbody tr th {\n",
              "        vertical-align: top;\n",
              "    }\n",
              "\n",
              "    .dataframe thead th {\n",
              "        text-align: right;\n",
              "    }\n",
              "</style>\n",
              "<table border=\"1\" class=\"dataframe\">\n",
              "  <thead>\n",
              "    <tr style=\"text-align: right;\">\n",
              "      <th></th>\n",
              "      <th>Duration (in seconds)</th>\n",
              "      <th>RecordedDate</th>\n",
              "      <th>ResponseId</th>\n",
              "      <th>Q1_Treatment_Lease</th>\n",
              "      <th>Q2_Treatment_Price_Perception</th>\n",
              "      <th>Q3_Treatment_Price_Suggestion</th>\n",
              "      <th>Q4_Treatment_Lease</th>\n",
              "      <th>Q5_Treatment_Price_Perception</th>\n",
              "      <th>Q6_Treatment_Price_Suggestion</th>\n",
              "      <th>Q7_Treatment_Lease</th>\n",
              "      <th>...</th>\n",
              "      <th>Q13_Control_Lease</th>\n",
              "      <th>Q14_Control_Price_Perception</th>\n",
              "      <th>Q15_Control_Price_Suggestion</th>\n",
              "      <th>email</th>\n",
              "      <th>age</th>\n",
              "      <th>gender</th>\n",
              "      <th>location_boston</th>\n",
              "      <th>employment_status</th>\n",
              "      <th>rent_budget</th>\n",
              "      <th>Treatment</th>\n",
              "    </tr>\n",
              "  </thead>\n",
              "  <tbody>\n",
              "    <tr>\n",
              "      <th>0</th>\n",
              "      <td>339</td>\n",
              "      <td>2024-02-27 13:04:41.032</td>\n",
              "      <td>R_60cPchGG1ACUq0t</td>\n",
              "      <td>NaN</td>\n",
              "      <td>NaN</td>\n",
              "      <td>NaN</td>\n",
              "      <td>NaN</td>\n",
              "      <td>NaN</td>\n",
              "      <td>NaN</td>\n",
              "      <td>NaN</td>\n",
              "      <td>...</td>\n",
              "      <td>Somewhat unlikely</td>\n",
              "      <td>Overpriced</td>\n",
              "      <td>2600.0</td>\n",
              "      <td>bychan@bu.edu</td>\n",
              "      <td>22</td>\n",
              "      <td>Man</td>\n",
              "      <td>Yes</td>\n",
              "      <td>Employed Part-time</td>\n",
              "      <td>1700.0</td>\n",
              "      <td>Block2</td>\n",
              "    </tr>\n",
              "    <tr>\n",
              "      <th>1</th>\n",
              "      <td>188</td>\n",
              "      <td>2024-02-27 13:31:33.026</td>\n",
              "      <td>R_6S90sCDjHlApWi5</td>\n",
              "      <td>Extremely likely</td>\n",
              "      <td>Fairly priced</td>\n",
              "      <td>NaN</td>\n",
              "      <td>Somewhat likely</td>\n",
              "      <td>Overpriced</td>\n",
              "      <td>900.0</td>\n",
              "      <td>Somewhat unlikely</td>\n",
              "      <td>...</td>\n",
              "      <td>NaN</td>\n",
              "      <td>NaN</td>\n",
              "      <td>NaN</td>\n",
              "      <td>neehak@bu.edu</td>\n",
              "      <td>23</td>\n",
              "      <td>Woman</td>\n",
              "      <td>Yes</td>\n",
              "      <td>Employed Part-time</td>\n",
              "      <td>1000.0</td>\n",
              "      <td>Block1</td>\n",
              "    </tr>\n",
              "    <tr>\n",
              "      <th>2</th>\n",
              "      <td>211</td>\n",
              "      <td>2024-02-27 13:32:06.831</td>\n",
              "      <td>R_7K2bh7BIOYgSjH8</td>\n",
              "      <td>NaN</td>\n",
              "      <td>NaN</td>\n",
              "      <td>NaN</td>\n",
              "      <td>NaN</td>\n",
              "      <td>NaN</td>\n",
              "      <td>NaN</td>\n",
              "      <td>NaN</td>\n",
              "      <td>...</td>\n",
              "      <td>Neither likely nor unlikely</td>\n",
              "      <td>Fairly priced</td>\n",
              "      <td>NaN</td>\n",
              "      <td>rifat.maxytow@gmail.com</td>\n",
              "      <td>23</td>\n",
              "      <td>Transgender Man</td>\n",
              "      <td>Yes</td>\n",
              "      <td>Employed Full-time</td>\n",
              "      <td>900.0</td>\n",
              "      <td>Block2</td>\n",
              "    </tr>\n",
              "    <tr>\n",
              "      <th>3</th>\n",
              "      <td>240</td>\n",
              "      <td>2024-02-27 13:34:30.039</td>\n",
              "      <td>R_1Jyl3F1WFVWVuqg</td>\n",
              "      <td>NaN</td>\n",
              "      <td>NaN</td>\n",
              "      <td>NaN</td>\n",
              "      <td>NaN</td>\n",
              "      <td>NaN</td>\n",
              "      <td>NaN</td>\n",
              "      <td>NaN</td>\n",
              "      <td>...</td>\n",
              "      <td>Neither likely nor unlikely</td>\n",
              "      <td>Overpriced</td>\n",
              "      <td>2200.0</td>\n",
              "      <td>8250139@gmail.com</td>\n",
              "      <td>20</td>\n",
              "      <td>Man</td>\n",
              "      <td>Yes</td>\n",
              "      <td>Unemployed</td>\n",
              "      <td>3500.0</td>\n",
              "      <td>Block2</td>\n",
              "    </tr>\n",
              "    <tr>\n",
              "      <th>4</th>\n",
              "      <td>199</td>\n",
              "      <td>2024-02-27 13:39:37.195</td>\n",
              "      <td>R_7g2BZfZeoi7Nhu7</td>\n",
              "      <td>NaN</td>\n",
              "      <td>NaN</td>\n",
              "      <td>NaN</td>\n",
              "      <td>NaN</td>\n",
              "      <td>NaN</td>\n",
              "      <td>NaN</td>\n",
              "      <td>NaN</td>\n",
              "      <td>...</td>\n",
              "      <td>Extremely unlikely</td>\n",
              "      <td>Overpriced</td>\n",
              "      <td>2400.0</td>\n",
              "      <td>prudhvir@bu.edu</td>\n",
              "      <td>25</td>\n",
              "      <td>Man</td>\n",
              "      <td>Yes</td>\n",
              "      <td>Employed Part-time</td>\n",
              "      <td>900.0</td>\n",
              "      <td>Block2</td>\n",
              "    </tr>\n",
              "  </tbody>\n",
              "</table>\n",
              "<p>5 rows × 40 columns</p>\n",
              "</div>\n",
              "    <div class=\"colab-df-buttons\">\n",
              "\n",
              "  <div class=\"colab-df-container\">\n",
              "    <button class=\"colab-df-convert\" onclick=\"convertToInteractive('df-0cfcda17-87d6-4d76-837f-d77684e8da83')\"\n",
              "            title=\"Convert this dataframe to an interactive table.\"\n",
              "            style=\"display:none;\">\n",
              "\n",
              "  <svg xmlns=\"http://www.w3.org/2000/svg\" height=\"24px\" viewBox=\"0 -960 960 960\">\n",
              "    <path d=\"M120-120v-720h720v720H120Zm60-500h600v-160H180v160Zm220 220h160v-160H400v160Zm0 220h160v-160H400v160ZM180-400h160v-160H180v160Zm440 0h160v-160H620v160ZM180-180h160v-160H180v160Zm440 0h160v-160H620v160Z\"/>\n",
              "  </svg>\n",
              "    </button>\n",
              "\n",
              "  <style>\n",
              "    .colab-df-container {\n",
              "      display:flex;\n",
              "      gap: 12px;\n",
              "    }\n",
              "\n",
              "    .colab-df-convert {\n",
              "      background-color: #E8F0FE;\n",
              "      border: none;\n",
              "      border-radius: 50%;\n",
              "      cursor: pointer;\n",
              "      display: none;\n",
              "      fill: #1967D2;\n",
              "      height: 32px;\n",
              "      padding: 0 0 0 0;\n",
              "      width: 32px;\n",
              "    }\n",
              "\n",
              "    .colab-df-convert:hover {\n",
              "      background-color: #E2EBFA;\n",
              "      box-shadow: 0px 1px 2px rgba(60, 64, 67, 0.3), 0px 1px 3px 1px rgba(60, 64, 67, 0.15);\n",
              "      fill: #174EA6;\n",
              "    }\n",
              "\n",
              "    .colab-df-buttons div {\n",
              "      margin-bottom: 4px;\n",
              "    }\n",
              "\n",
              "    [theme=dark] .colab-df-convert {\n",
              "      background-color: #3B4455;\n",
              "      fill: #D2E3FC;\n",
              "    }\n",
              "\n",
              "    [theme=dark] .colab-df-convert:hover {\n",
              "      background-color: #434B5C;\n",
              "      box-shadow: 0px 1px 3px 1px rgba(0, 0, 0, 0.15);\n",
              "      filter: drop-shadow(0px 1px 2px rgba(0, 0, 0, 0.3));\n",
              "      fill: #FFFFFF;\n",
              "    }\n",
              "  </style>\n",
              "\n",
              "    <script>\n",
              "      const buttonEl =\n",
              "        document.querySelector('#df-0cfcda17-87d6-4d76-837f-d77684e8da83 button.colab-df-convert');\n",
              "      buttonEl.style.display =\n",
              "        google.colab.kernel.accessAllowed ? 'block' : 'none';\n",
              "\n",
              "      async function convertToInteractive(key) {\n",
              "        const element = document.querySelector('#df-0cfcda17-87d6-4d76-837f-d77684e8da83');\n",
              "        const dataTable =\n",
              "          await google.colab.kernel.invokeFunction('convertToInteractive',\n",
              "                                                    [key], {});\n",
              "        if (!dataTable) return;\n",
              "\n",
              "        const docLinkHtml = 'Like what you see? Visit the ' +\n",
              "          '<a target=\"_blank\" href=https://colab.research.google.com/notebooks/data_table.ipynb>data table notebook</a>'\n",
              "          + ' to learn more about interactive tables.';\n",
              "        element.innerHTML = '';\n",
              "        dataTable['output_type'] = 'display_data';\n",
              "        await google.colab.output.renderOutput(dataTable, element);\n",
              "        const docLink = document.createElement('div');\n",
              "        docLink.innerHTML = docLinkHtml;\n",
              "        element.appendChild(docLink);\n",
              "      }\n",
              "    </script>\n",
              "  </div>\n",
              "\n",
              "\n",
              "<div id=\"df-07788484-4937-48f8-afa1-d7d627209f64\">\n",
              "  <button class=\"colab-df-quickchart\" onclick=\"quickchart('df-07788484-4937-48f8-afa1-d7d627209f64')\"\n",
              "            title=\"Suggest charts\"\n",
              "            style=\"display:none;\">\n",
              "\n",
              "<svg xmlns=\"http://www.w3.org/2000/svg\" height=\"24px\"viewBox=\"0 0 24 24\"\n",
              "     width=\"24px\">\n",
              "    <g>\n",
              "        <path d=\"M19 3H5c-1.1 0-2 .9-2 2v14c0 1.1.9 2 2 2h14c1.1 0 2-.9 2-2V5c0-1.1-.9-2-2-2zM9 17H7v-7h2v7zm4 0h-2V7h2v10zm4 0h-2v-4h2v4z\"/>\n",
              "    </g>\n",
              "</svg>\n",
              "  </button>\n",
              "\n",
              "<style>\n",
              "  .colab-df-quickchart {\n",
              "      --bg-color: #E8F0FE;\n",
              "      --fill-color: #1967D2;\n",
              "      --hover-bg-color: #E2EBFA;\n",
              "      --hover-fill-color: #174EA6;\n",
              "      --disabled-fill-color: #AAA;\n",
              "      --disabled-bg-color: #DDD;\n",
              "  }\n",
              "\n",
              "  [theme=dark] .colab-df-quickchart {\n",
              "      --bg-color: #3B4455;\n",
              "      --fill-color: #D2E3FC;\n",
              "      --hover-bg-color: #434B5C;\n",
              "      --hover-fill-color: #FFFFFF;\n",
              "      --disabled-bg-color: #3B4455;\n",
              "      --disabled-fill-color: #666;\n",
              "  }\n",
              "\n",
              "  .colab-df-quickchart {\n",
              "    background-color: var(--bg-color);\n",
              "    border: none;\n",
              "    border-radius: 50%;\n",
              "    cursor: pointer;\n",
              "    display: none;\n",
              "    fill: var(--fill-color);\n",
              "    height: 32px;\n",
              "    padding: 0;\n",
              "    width: 32px;\n",
              "  }\n",
              "\n",
              "  .colab-df-quickchart:hover {\n",
              "    background-color: var(--hover-bg-color);\n",
              "    box-shadow: 0 1px 2px rgba(60, 64, 67, 0.3), 0 1px 3px 1px rgba(60, 64, 67, 0.15);\n",
              "    fill: var(--button-hover-fill-color);\n",
              "  }\n",
              "\n",
              "  .colab-df-quickchart-complete:disabled,\n",
              "  .colab-df-quickchart-complete:disabled:hover {\n",
              "    background-color: var(--disabled-bg-color);\n",
              "    fill: var(--disabled-fill-color);\n",
              "    box-shadow: none;\n",
              "  }\n",
              "\n",
              "  .colab-df-spinner {\n",
              "    border: 2px solid var(--fill-color);\n",
              "    border-color: transparent;\n",
              "    border-bottom-color: var(--fill-color);\n",
              "    animation:\n",
              "      spin 1s steps(1) infinite;\n",
              "  }\n",
              "\n",
              "  @keyframes spin {\n",
              "    0% {\n",
              "      border-color: transparent;\n",
              "      border-bottom-color: var(--fill-color);\n",
              "      border-left-color: var(--fill-color);\n",
              "    }\n",
              "    20% {\n",
              "      border-color: transparent;\n",
              "      border-left-color: var(--fill-color);\n",
              "      border-top-color: var(--fill-color);\n",
              "    }\n",
              "    30% {\n",
              "      border-color: transparent;\n",
              "      border-left-color: var(--fill-color);\n",
              "      border-top-color: var(--fill-color);\n",
              "      border-right-color: var(--fill-color);\n",
              "    }\n",
              "    40% {\n",
              "      border-color: transparent;\n",
              "      border-right-color: var(--fill-color);\n",
              "      border-top-color: var(--fill-color);\n",
              "    }\n",
              "    60% {\n",
              "      border-color: transparent;\n",
              "      border-right-color: var(--fill-color);\n",
              "    }\n",
              "    80% {\n",
              "      border-color: transparent;\n",
              "      border-right-color: var(--fill-color);\n",
              "      border-bottom-color: var(--fill-color);\n",
              "    }\n",
              "    90% {\n",
              "      border-color: transparent;\n",
              "      border-bottom-color: var(--fill-color);\n",
              "    }\n",
              "  }\n",
              "</style>\n",
              "\n",
              "  <script>\n",
              "    async function quickchart(key) {\n",
              "      const quickchartButtonEl =\n",
              "        document.querySelector('#' + key + ' button');\n",
              "      quickchartButtonEl.disabled = true;  // To prevent multiple clicks.\n",
              "      quickchartButtonEl.classList.add('colab-df-spinner');\n",
              "      try {\n",
              "        const charts = await google.colab.kernel.invokeFunction(\n",
              "            'suggestCharts', [key], {});\n",
              "      } catch (error) {\n",
              "        console.error('Error during call to suggestCharts:', error);\n",
              "      }\n",
              "      quickchartButtonEl.classList.remove('colab-df-spinner');\n",
              "      quickchartButtonEl.classList.add('colab-df-quickchart-complete');\n",
              "    }\n",
              "    (() => {\n",
              "      let quickchartButtonEl =\n",
              "        document.querySelector('#df-07788484-4937-48f8-afa1-d7d627209f64 button');\n",
              "      quickchartButtonEl.style.display =\n",
              "        google.colab.kernel.accessAllowed ? 'block' : 'none';\n",
              "    })();\n",
              "  </script>\n",
              "</div>\n",
              "    </div>\n",
              "  </div>\n"
            ],
            "application/vnd.google.colaboratory.intrinsic+json": {
              "type": "dataframe",
              "variable_name": "df"
            }
          },
          "metadata": {},
          "execution_count": 7
        }
      ]
    },
    {
      "cell_type": "code",
      "source": [
        "# Concating treatment and control questions together for better analysis\n",
        "treatment_group = pd.concat([df.loc[:, 'Duration (in seconds)':'Q15_Treatment_Price_Suggestion'], df[['email', 'age', 'gender', 'location_boston', 'employment_status', 'rent_budget', 'Treatment']]], axis=1)\n",
        "control_group = pd.concat([df.loc[:, 'Duration (in seconds)': 'ResponseId'], df.loc[:, 'Q1_Control_Lease':'Q15_Control_Price_Suggestion'], df[['email', 'age', 'gender', 'location_boston', 'employment_status', 'rent_budget', 'Treatment']]], axis=1)"
      ],
      "metadata": {
        "id": "NnmLGLeJl1b5"
      },
      "execution_count": 8,
      "outputs": []
    },
    {
      "cell_type": "code",
      "source": [
        "# Defining treatment and control groups\n",
        "treatment_group= treatment_group[treatment_group['Treatment'] == \"Block1\"]\n",
        "control_group= control_group[control_group['Treatment'] == \"Block2\"]"
      ],
      "metadata": {
        "id": "xcKhYrsCoZrd"
      },
      "execution_count": 9,
      "outputs": []
    },
    {
      "cell_type": "code",
      "source": [
        "# Renaming columns for easier understandability\n",
        "control_group.rename(columns={'Q1_Control_Lease': 'Q1_Treatment_Lease',\n",
        "                              'Q2_Control_Price_Perception': 'Q2_Treatment_Price_Perception',\n",
        "                              'Q3_Control_Price_Suggestion': 'Q3_Treatment_Price_Suggestion',\n",
        "                              'Q4_Control_Lease': 'Q4_Treatment_Lease',\n",
        "                              'Q5_Control_Price_Perception': 'Q5_Treatment_Price_Perception',\n",
        "                              'Q6_Control_Price_Suggestion': 'Q6_Treatment_Price_Suggestion',\n",
        "                              'Q7_Control_Lease': 'Q7_Treatment_Lease',\n",
        "                              'Q8_Control_Price_Perception': 'Q8_Treatment_Price_Perception',\n",
        "                              'Q9_Control_Price_Suggestion': 'Q9_Treatment_Price_Suggestion',\n",
        "                              'Q10_Control_Lease': 'Q10_Treatment_Lease',\n",
        "                              'Q11_Control_Price_Perception': 'Q11_Treatment_Price_Perception',\n",
        "                              'Q12_Control_Price_Suggestion': 'Q12_Treatment_Price_Suggestion',\n",
        "                               'Q13_Control_Lease': 'Q13_Treatment_Lease',\n",
        "                               'Q14_Control_Price_Perception': 'Q14_Treatment_Price_Perception',\n",
        "                              'Q15_Control_Price_Suggestion': 'Q15_Treatment_Price_Suggestion'\n",
        "                               }, inplace=True)"
      ],
      "metadata": {
        "id": "bX9bBZE4por7"
      },
      "execution_count": 10,
      "outputs": []
    },
    {
      "cell_type": "code",
      "source": [
        "# Changing column names\n",
        "cleaned_df = pd.concat([treatment_group, control_group], axis=0)\n",
        "cleaned_df.rename(columns={x: x.replace(\"_Treatment\", \"\") for x in cleaned_df.columns}, inplace=True)\n",
        "cleaned_df"
      ],
      "metadata": {
        "id": "msCu23fQo5-P",
        "colab": {
          "base_uri": "https://localhost:8080/",
          "height": 686
        },
        "outputId": "2d05f8fe-8f0e-43c5-f755-75bbb8ed81ad"
      },
      "execution_count": 11,
      "outputs": [
        {
          "output_type": "execute_result",
          "data": {
            "text/plain": [
              "    Duration (in seconds)            RecordedDate         ResponseId  \\\n",
              "1                     188 2024-02-27 13:31:33.026  R_6S90sCDjHlApWi5   \n",
              "5                     191 2024-02-27 13:44:05.415  R_77Ewar7atlUvSEb   \n",
              "7                     322 2024-02-27 13:49:48.731  R_65TrFWIEO8xosXF   \n",
              "11                    102 2024-02-27 14:48:47.512  R_6b18HmwhmiYYmHv   \n",
              "12                    858 2024-02-27 14:54:41.324  R_6SjfJWeVI5ShnKg   \n",
              "..                    ...                     ...                ...   \n",
              "70                  33819 2024-02-28 19:47:40.692  R_7YLDMFaeIPdtuoJ   \n",
              "71                    415 2024-02-29 11:28:39.383  R_3BkRubU5qMzp0Bz   \n",
              "73                    246 2024-02-29 11:53:43.640  R_5L4PRTE6pdGMi7y   \n",
              "76                    307 2024-02-29 13:05:07.040  R_3zGgdj2iIu6XXum   \n",
              "78                    182 2024-02-29 19:54:24.399  R_1QKIBeDxdrhpy9b   \n",
              "\n",
              "                       Q1_Lease Q2_Price_Perception  Q3_Price_Suggestion  \\\n",
              "1              Extremely likely       Fairly priced                  NaN   \n",
              "5              Extremely likely       Fairly priced                  NaN   \n",
              "7               Somewhat likely       Fairly priced                  NaN   \n",
              "11             Extremely likely       Fairly priced                  NaN   \n",
              "12           Extremely unlikely          Overpriced                800.0   \n",
              "..                          ...                 ...                  ...   \n",
              "70             Extremely likely         Underpriced               3500.0   \n",
              "71            Somewhat unlikely          Overpriced                600.0   \n",
              "73             Extremely likely       Fairly priced                  NaN   \n",
              "76  Neither likely nor unlikely       Fairly priced                  NaN   \n",
              "78              Somewhat likely       Fairly priced                  NaN   \n",
              "\n",
              "              Q4_Lease Q5_Price_Perception  Q6_Price_Suggestion  \\\n",
              "1      Somewhat likely          Overpriced                900.0   \n",
              "5      Somewhat likely       Fairly priced                  NaN   \n",
              "7    Somewhat unlikely          Overpriced                845.0   \n",
              "11    Extremely likely       Fairly priced                  NaN   \n",
              "12  Extremely unlikely       Fairly priced                  NaN   \n",
              "..                 ...                 ...                  ...   \n",
              "70     Somewhat likely         Underpriced               3250.0   \n",
              "71     Somewhat likely       Fairly priced                  NaN   \n",
              "73    Extremely likely       Fairly priced                  NaN   \n",
              "76     Somewhat likely       Fairly priced                  NaN   \n",
              "78  Extremely unlikely       Fairly priced                  NaN   \n",
              "\n",
              "                       Q7_Lease  ...           Q13_Lease  \\\n",
              "1             Somewhat unlikely  ...   Somewhat unlikely   \n",
              "5               Somewhat likely  ...   Somewhat unlikely   \n",
              "7   Neither likely nor unlikely  ...  Extremely unlikely   \n",
              "11            Somewhat unlikely  ...  Extremely unlikely   \n",
              "12              Somewhat likely  ...    Extremely likely   \n",
              "..                          ...  ...                 ...   \n",
              "70             Extremely likely  ...  Extremely unlikely   \n",
              "71             Extremely likely  ...  Extremely unlikely   \n",
              "73           Extremely unlikely  ...  Extremely unlikely   \n",
              "76            Somewhat unlikely  ...  Extremely unlikely   \n",
              "78            Somewhat unlikely  ...  Extremely unlikely   \n",
              "\n",
              "    Q14_Price_Perception Q15_Price_Suggestion                         email  \\\n",
              "1          Fairly priced                  NaN                 neehak@bu.edu   \n",
              "5             Overpriced               1800.0                 artemv@bu.edu   \n",
              "7             Overpriced               2200.0               loreleil@bu.edu   \n",
              "11            Overpriced               2000.0         skylar80031@gmail.com   \n",
              "12         Fairly priced                  NaN         8s0g37we2@mozmail.com   \n",
              "..                   ...                  ...                           ...   \n",
              "70            Overpriced               2000.0  abhishek.alchemist@gmail.com   \n",
              "71            Overpriced               1500.0           kiakane23@gmail.com   \n",
              "73            Overpriced               1700.0       barrie.abdul7@gmail.com   \n",
              "76         Fairly priced                  NaN          mcherif360@gmail.com   \n",
              "78            Overpriced                900.0           aichabahd@gmail.com   \n",
              "\n",
              "    age gender location_boston   employment_status rent_budget  Treatment  \n",
              "1    23  Woman             Yes  Employed Part-time      1000.0     Block1  \n",
              "5    23    Man             Yes  Employed Full-time      1000.0     Block1  \n",
              "7    26  Woman             Yes          Unemployed      1300.0     Block1  \n",
              "11   22  Woman             Yes  Employed Part-time         NaN     Block1  \n",
              "12   19  Woman             Yes          Unemployed         NaN     Block1  \n",
              "..  ...    ...             ...                 ...         ...        ...  \n",
              "70   31    Man              No  Employed Full-time      3000.0     Block2  \n",
              "71   22  Woman              No  Employed Part-time      1700.0     Block2  \n",
              "73   25    Man              No          Unemployed      1000.0     Block2  \n",
              "76   19  Woman              No          Unemployed         NaN     Block2  \n",
              "78   38  Woman              No  Employed Full-time      1500.0     Block2  \n",
              "\n",
              "[79 rows x 25 columns]"
            ],
            "text/html": [
              "\n",
              "  <div id=\"df-9338f934-8f5d-4985-8e5b-7de90ea17476\" class=\"colab-df-container\">\n",
              "    <div>\n",
              "<style scoped>\n",
              "    .dataframe tbody tr th:only-of-type {\n",
              "        vertical-align: middle;\n",
              "    }\n",
              "\n",
              "    .dataframe tbody tr th {\n",
              "        vertical-align: top;\n",
              "    }\n",
              "\n",
              "    .dataframe thead th {\n",
              "        text-align: right;\n",
              "    }\n",
              "</style>\n",
              "<table border=\"1\" class=\"dataframe\">\n",
              "  <thead>\n",
              "    <tr style=\"text-align: right;\">\n",
              "      <th></th>\n",
              "      <th>Duration (in seconds)</th>\n",
              "      <th>RecordedDate</th>\n",
              "      <th>ResponseId</th>\n",
              "      <th>Q1_Lease</th>\n",
              "      <th>Q2_Price_Perception</th>\n",
              "      <th>Q3_Price_Suggestion</th>\n",
              "      <th>Q4_Lease</th>\n",
              "      <th>Q5_Price_Perception</th>\n",
              "      <th>Q6_Price_Suggestion</th>\n",
              "      <th>Q7_Lease</th>\n",
              "      <th>...</th>\n",
              "      <th>Q13_Lease</th>\n",
              "      <th>Q14_Price_Perception</th>\n",
              "      <th>Q15_Price_Suggestion</th>\n",
              "      <th>email</th>\n",
              "      <th>age</th>\n",
              "      <th>gender</th>\n",
              "      <th>location_boston</th>\n",
              "      <th>employment_status</th>\n",
              "      <th>rent_budget</th>\n",
              "      <th>Treatment</th>\n",
              "    </tr>\n",
              "  </thead>\n",
              "  <tbody>\n",
              "    <tr>\n",
              "      <th>1</th>\n",
              "      <td>188</td>\n",
              "      <td>2024-02-27 13:31:33.026</td>\n",
              "      <td>R_6S90sCDjHlApWi5</td>\n",
              "      <td>Extremely likely</td>\n",
              "      <td>Fairly priced</td>\n",
              "      <td>NaN</td>\n",
              "      <td>Somewhat likely</td>\n",
              "      <td>Overpriced</td>\n",
              "      <td>900.0</td>\n",
              "      <td>Somewhat unlikely</td>\n",
              "      <td>...</td>\n",
              "      <td>Somewhat unlikely</td>\n",
              "      <td>Fairly priced</td>\n",
              "      <td>NaN</td>\n",
              "      <td>neehak@bu.edu</td>\n",
              "      <td>23</td>\n",
              "      <td>Woman</td>\n",
              "      <td>Yes</td>\n",
              "      <td>Employed Part-time</td>\n",
              "      <td>1000.0</td>\n",
              "      <td>Block1</td>\n",
              "    </tr>\n",
              "    <tr>\n",
              "      <th>5</th>\n",
              "      <td>191</td>\n",
              "      <td>2024-02-27 13:44:05.415</td>\n",
              "      <td>R_77Ewar7atlUvSEb</td>\n",
              "      <td>Extremely likely</td>\n",
              "      <td>Fairly priced</td>\n",
              "      <td>NaN</td>\n",
              "      <td>Somewhat likely</td>\n",
              "      <td>Fairly priced</td>\n",
              "      <td>NaN</td>\n",
              "      <td>Somewhat likely</td>\n",
              "      <td>...</td>\n",
              "      <td>Somewhat unlikely</td>\n",
              "      <td>Overpriced</td>\n",
              "      <td>1800.0</td>\n",
              "      <td>artemv@bu.edu</td>\n",
              "      <td>23</td>\n",
              "      <td>Man</td>\n",
              "      <td>Yes</td>\n",
              "      <td>Employed Full-time</td>\n",
              "      <td>1000.0</td>\n",
              "      <td>Block1</td>\n",
              "    </tr>\n",
              "    <tr>\n",
              "      <th>7</th>\n",
              "      <td>322</td>\n",
              "      <td>2024-02-27 13:49:48.731</td>\n",
              "      <td>R_65TrFWIEO8xosXF</td>\n",
              "      <td>Somewhat likely</td>\n",
              "      <td>Fairly priced</td>\n",
              "      <td>NaN</td>\n",
              "      <td>Somewhat unlikely</td>\n",
              "      <td>Overpriced</td>\n",
              "      <td>845.0</td>\n",
              "      <td>Neither likely nor unlikely</td>\n",
              "      <td>...</td>\n",
              "      <td>Extremely unlikely</td>\n",
              "      <td>Overpriced</td>\n",
              "      <td>2200.0</td>\n",
              "      <td>loreleil@bu.edu</td>\n",
              "      <td>26</td>\n",
              "      <td>Woman</td>\n",
              "      <td>Yes</td>\n",
              "      <td>Unemployed</td>\n",
              "      <td>1300.0</td>\n",
              "      <td>Block1</td>\n",
              "    </tr>\n",
              "    <tr>\n",
              "      <th>11</th>\n",
              "      <td>102</td>\n",
              "      <td>2024-02-27 14:48:47.512</td>\n",
              "      <td>R_6b18HmwhmiYYmHv</td>\n",
              "      <td>Extremely likely</td>\n",
              "      <td>Fairly priced</td>\n",
              "      <td>NaN</td>\n",
              "      <td>Extremely likely</td>\n",
              "      <td>Fairly priced</td>\n",
              "      <td>NaN</td>\n",
              "      <td>Somewhat unlikely</td>\n",
              "      <td>...</td>\n",
              "      <td>Extremely unlikely</td>\n",
              "      <td>Overpriced</td>\n",
              "      <td>2000.0</td>\n",
              "      <td>skylar80031@gmail.com</td>\n",
              "      <td>22</td>\n",
              "      <td>Woman</td>\n",
              "      <td>Yes</td>\n",
              "      <td>Employed Part-time</td>\n",
              "      <td>NaN</td>\n",
              "      <td>Block1</td>\n",
              "    </tr>\n",
              "    <tr>\n",
              "      <th>12</th>\n",
              "      <td>858</td>\n",
              "      <td>2024-02-27 14:54:41.324</td>\n",
              "      <td>R_6SjfJWeVI5ShnKg</td>\n",
              "      <td>Extremely unlikely</td>\n",
              "      <td>Overpriced</td>\n",
              "      <td>800.0</td>\n",
              "      <td>Extremely unlikely</td>\n",
              "      <td>Fairly priced</td>\n",
              "      <td>NaN</td>\n",
              "      <td>Somewhat likely</td>\n",
              "      <td>...</td>\n",
              "      <td>Extremely likely</td>\n",
              "      <td>Fairly priced</td>\n",
              "      <td>NaN</td>\n",
              "      <td>8s0g37we2@mozmail.com</td>\n",
              "      <td>19</td>\n",
              "      <td>Woman</td>\n",
              "      <td>Yes</td>\n",
              "      <td>Unemployed</td>\n",
              "      <td>NaN</td>\n",
              "      <td>Block1</td>\n",
              "    </tr>\n",
              "    <tr>\n",
              "      <th>...</th>\n",
              "      <td>...</td>\n",
              "      <td>...</td>\n",
              "      <td>...</td>\n",
              "      <td>...</td>\n",
              "      <td>...</td>\n",
              "      <td>...</td>\n",
              "      <td>...</td>\n",
              "      <td>...</td>\n",
              "      <td>...</td>\n",
              "      <td>...</td>\n",
              "      <td>...</td>\n",
              "      <td>...</td>\n",
              "      <td>...</td>\n",
              "      <td>...</td>\n",
              "      <td>...</td>\n",
              "      <td>...</td>\n",
              "      <td>...</td>\n",
              "      <td>...</td>\n",
              "      <td>...</td>\n",
              "      <td>...</td>\n",
              "      <td>...</td>\n",
              "    </tr>\n",
              "    <tr>\n",
              "      <th>70</th>\n",
              "      <td>33819</td>\n",
              "      <td>2024-02-28 19:47:40.692</td>\n",
              "      <td>R_7YLDMFaeIPdtuoJ</td>\n",
              "      <td>Extremely likely</td>\n",
              "      <td>Underpriced</td>\n",
              "      <td>3500.0</td>\n",
              "      <td>Somewhat likely</td>\n",
              "      <td>Underpriced</td>\n",
              "      <td>3250.0</td>\n",
              "      <td>Extremely likely</td>\n",
              "      <td>...</td>\n",
              "      <td>Extremely unlikely</td>\n",
              "      <td>Overpriced</td>\n",
              "      <td>2000.0</td>\n",
              "      <td>abhishek.alchemist@gmail.com</td>\n",
              "      <td>31</td>\n",
              "      <td>Man</td>\n",
              "      <td>No</td>\n",
              "      <td>Employed Full-time</td>\n",
              "      <td>3000.0</td>\n",
              "      <td>Block2</td>\n",
              "    </tr>\n",
              "    <tr>\n",
              "      <th>71</th>\n",
              "      <td>415</td>\n",
              "      <td>2024-02-29 11:28:39.383</td>\n",
              "      <td>R_3BkRubU5qMzp0Bz</td>\n",
              "      <td>Somewhat unlikely</td>\n",
              "      <td>Overpriced</td>\n",
              "      <td>600.0</td>\n",
              "      <td>Somewhat likely</td>\n",
              "      <td>Fairly priced</td>\n",
              "      <td>NaN</td>\n",
              "      <td>Extremely likely</td>\n",
              "      <td>...</td>\n",
              "      <td>Extremely unlikely</td>\n",
              "      <td>Overpriced</td>\n",
              "      <td>1500.0</td>\n",
              "      <td>kiakane23@gmail.com</td>\n",
              "      <td>22</td>\n",
              "      <td>Woman</td>\n",
              "      <td>No</td>\n",
              "      <td>Employed Part-time</td>\n",
              "      <td>1700.0</td>\n",
              "      <td>Block2</td>\n",
              "    </tr>\n",
              "    <tr>\n",
              "      <th>73</th>\n",
              "      <td>246</td>\n",
              "      <td>2024-02-29 11:53:43.640</td>\n",
              "      <td>R_5L4PRTE6pdGMi7y</td>\n",
              "      <td>Extremely likely</td>\n",
              "      <td>Fairly priced</td>\n",
              "      <td>NaN</td>\n",
              "      <td>Extremely likely</td>\n",
              "      <td>Fairly priced</td>\n",
              "      <td>NaN</td>\n",
              "      <td>Extremely unlikely</td>\n",
              "      <td>...</td>\n",
              "      <td>Extremely unlikely</td>\n",
              "      <td>Overpriced</td>\n",
              "      <td>1700.0</td>\n",
              "      <td>barrie.abdul7@gmail.com</td>\n",
              "      <td>25</td>\n",
              "      <td>Man</td>\n",
              "      <td>No</td>\n",
              "      <td>Unemployed</td>\n",
              "      <td>1000.0</td>\n",
              "      <td>Block2</td>\n",
              "    </tr>\n",
              "    <tr>\n",
              "      <th>76</th>\n",
              "      <td>307</td>\n",
              "      <td>2024-02-29 13:05:07.040</td>\n",
              "      <td>R_3zGgdj2iIu6XXum</td>\n",
              "      <td>Neither likely nor unlikely</td>\n",
              "      <td>Fairly priced</td>\n",
              "      <td>NaN</td>\n",
              "      <td>Somewhat likely</td>\n",
              "      <td>Fairly priced</td>\n",
              "      <td>NaN</td>\n",
              "      <td>Somewhat unlikely</td>\n",
              "      <td>...</td>\n",
              "      <td>Extremely unlikely</td>\n",
              "      <td>Fairly priced</td>\n",
              "      <td>NaN</td>\n",
              "      <td>mcherif360@gmail.com</td>\n",
              "      <td>19</td>\n",
              "      <td>Woman</td>\n",
              "      <td>No</td>\n",
              "      <td>Unemployed</td>\n",
              "      <td>NaN</td>\n",
              "      <td>Block2</td>\n",
              "    </tr>\n",
              "    <tr>\n",
              "      <th>78</th>\n",
              "      <td>182</td>\n",
              "      <td>2024-02-29 19:54:24.399</td>\n",
              "      <td>R_1QKIBeDxdrhpy9b</td>\n",
              "      <td>Somewhat likely</td>\n",
              "      <td>Fairly priced</td>\n",
              "      <td>NaN</td>\n",
              "      <td>Extremely unlikely</td>\n",
              "      <td>Fairly priced</td>\n",
              "      <td>NaN</td>\n",
              "      <td>Somewhat unlikely</td>\n",
              "      <td>...</td>\n",
              "      <td>Extremely unlikely</td>\n",
              "      <td>Overpriced</td>\n",
              "      <td>900.0</td>\n",
              "      <td>aichabahd@gmail.com</td>\n",
              "      <td>38</td>\n",
              "      <td>Woman</td>\n",
              "      <td>No</td>\n",
              "      <td>Employed Full-time</td>\n",
              "      <td>1500.0</td>\n",
              "      <td>Block2</td>\n",
              "    </tr>\n",
              "  </tbody>\n",
              "</table>\n",
              "<p>79 rows × 25 columns</p>\n",
              "</div>\n",
              "    <div class=\"colab-df-buttons\">\n",
              "\n",
              "  <div class=\"colab-df-container\">\n",
              "    <button class=\"colab-df-convert\" onclick=\"convertToInteractive('df-9338f934-8f5d-4985-8e5b-7de90ea17476')\"\n",
              "            title=\"Convert this dataframe to an interactive table.\"\n",
              "            style=\"display:none;\">\n",
              "\n",
              "  <svg xmlns=\"http://www.w3.org/2000/svg\" height=\"24px\" viewBox=\"0 -960 960 960\">\n",
              "    <path d=\"M120-120v-720h720v720H120Zm60-500h600v-160H180v160Zm220 220h160v-160H400v160Zm0 220h160v-160H400v160ZM180-400h160v-160H180v160Zm440 0h160v-160H620v160ZM180-180h160v-160H180v160Zm440 0h160v-160H620v160Z\"/>\n",
              "  </svg>\n",
              "    </button>\n",
              "\n",
              "  <style>\n",
              "    .colab-df-container {\n",
              "      display:flex;\n",
              "      gap: 12px;\n",
              "    }\n",
              "\n",
              "    .colab-df-convert {\n",
              "      background-color: #E8F0FE;\n",
              "      border: none;\n",
              "      border-radius: 50%;\n",
              "      cursor: pointer;\n",
              "      display: none;\n",
              "      fill: #1967D2;\n",
              "      height: 32px;\n",
              "      padding: 0 0 0 0;\n",
              "      width: 32px;\n",
              "    }\n",
              "\n",
              "    .colab-df-convert:hover {\n",
              "      background-color: #E2EBFA;\n",
              "      box-shadow: 0px 1px 2px rgba(60, 64, 67, 0.3), 0px 1px 3px 1px rgba(60, 64, 67, 0.15);\n",
              "      fill: #174EA6;\n",
              "    }\n",
              "\n",
              "    .colab-df-buttons div {\n",
              "      margin-bottom: 4px;\n",
              "    }\n",
              "\n",
              "    [theme=dark] .colab-df-convert {\n",
              "      background-color: #3B4455;\n",
              "      fill: #D2E3FC;\n",
              "    }\n",
              "\n",
              "    [theme=dark] .colab-df-convert:hover {\n",
              "      background-color: #434B5C;\n",
              "      box-shadow: 0px 1px 3px 1px rgba(0, 0, 0, 0.15);\n",
              "      filter: drop-shadow(0px 1px 2px rgba(0, 0, 0, 0.3));\n",
              "      fill: #FFFFFF;\n",
              "    }\n",
              "  </style>\n",
              "\n",
              "    <script>\n",
              "      const buttonEl =\n",
              "        document.querySelector('#df-9338f934-8f5d-4985-8e5b-7de90ea17476 button.colab-df-convert');\n",
              "      buttonEl.style.display =\n",
              "        google.colab.kernel.accessAllowed ? 'block' : 'none';\n",
              "\n",
              "      async function convertToInteractive(key) {\n",
              "        const element = document.querySelector('#df-9338f934-8f5d-4985-8e5b-7de90ea17476');\n",
              "        const dataTable =\n",
              "          await google.colab.kernel.invokeFunction('convertToInteractive',\n",
              "                                                    [key], {});\n",
              "        if (!dataTable) return;\n",
              "\n",
              "        const docLinkHtml = 'Like what you see? Visit the ' +\n",
              "          '<a target=\"_blank\" href=https://colab.research.google.com/notebooks/data_table.ipynb>data table notebook</a>'\n",
              "          + ' to learn more about interactive tables.';\n",
              "        element.innerHTML = '';\n",
              "        dataTable['output_type'] = 'display_data';\n",
              "        await google.colab.output.renderOutput(dataTable, element);\n",
              "        const docLink = document.createElement('div');\n",
              "        docLink.innerHTML = docLinkHtml;\n",
              "        element.appendChild(docLink);\n",
              "      }\n",
              "    </script>\n",
              "  </div>\n",
              "\n",
              "\n",
              "<div id=\"df-7bf14809-3e65-4963-a5bc-662991f7a9c7\">\n",
              "  <button class=\"colab-df-quickchart\" onclick=\"quickchart('df-7bf14809-3e65-4963-a5bc-662991f7a9c7')\"\n",
              "            title=\"Suggest charts\"\n",
              "            style=\"display:none;\">\n",
              "\n",
              "<svg xmlns=\"http://www.w3.org/2000/svg\" height=\"24px\"viewBox=\"0 0 24 24\"\n",
              "     width=\"24px\">\n",
              "    <g>\n",
              "        <path d=\"M19 3H5c-1.1 0-2 .9-2 2v14c0 1.1.9 2 2 2h14c1.1 0 2-.9 2-2V5c0-1.1-.9-2-2-2zM9 17H7v-7h2v7zm4 0h-2V7h2v10zm4 0h-2v-4h2v4z\"/>\n",
              "    </g>\n",
              "</svg>\n",
              "  </button>\n",
              "\n",
              "<style>\n",
              "  .colab-df-quickchart {\n",
              "      --bg-color: #E8F0FE;\n",
              "      --fill-color: #1967D2;\n",
              "      --hover-bg-color: #E2EBFA;\n",
              "      --hover-fill-color: #174EA6;\n",
              "      --disabled-fill-color: #AAA;\n",
              "      --disabled-bg-color: #DDD;\n",
              "  }\n",
              "\n",
              "  [theme=dark] .colab-df-quickchart {\n",
              "      --bg-color: #3B4455;\n",
              "      --fill-color: #D2E3FC;\n",
              "      --hover-bg-color: #434B5C;\n",
              "      --hover-fill-color: #FFFFFF;\n",
              "      --disabled-bg-color: #3B4455;\n",
              "      --disabled-fill-color: #666;\n",
              "  }\n",
              "\n",
              "  .colab-df-quickchart {\n",
              "    background-color: var(--bg-color);\n",
              "    border: none;\n",
              "    border-radius: 50%;\n",
              "    cursor: pointer;\n",
              "    display: none;\n",
              "    fill: var(--fill-color);\n",
              "    height: 32px;\n",
              "    padding: 0;\n",
              "    width: 32px;\n",
              "  }\n",
              "\n",
              "  .colab-df-quickchart:hover {\n",
              "    background-color: var(--hover-bg-color);\n",
              "    box-shadow: 0 1px 2px rgba(60, 64, 67, 0.3), 0 1px 3px 1px rgba(60, 64, 67, 0.15);\n",
              "    fill: var(--button-hover-fill-color);\n",
              "  }\n",
              "\n",
              "  .colab-df-quickchart-complete:disabled,\n",
              "  .colab-df-quickchart-complete:disabled:hover {\n",
              "    background-color: var(--disabled-bg-color);\n",
              "    fill: var(--disabled-fill-color);\n",
              "    box-shadow: none;\n",
              "  }\n",
              "\n",
              "  .colab-df-spinner {\n",
              "    border: 2px solid var(--fill-color);\n",
              "    border-color: transparent;\n",
              "    border-bottom-color: var(--fill-color);\n",
              "    animation:\n",
              "      spin 1s steps(1) infinite;\n",
              "  }\n",
              "\n",
              "  @keyframes spin {\n",
              "    0% {\n",
              "      border-color: transparent;\n",
              "      border-bottom-color: var(--fill-color);\n",
              "      border-left-color: var(--fill-color);\n",
              "    }\n",
              "    20% {\n",
              "      border-color: transparent;\n",
              "      border-left-color: var(--fill-color);\n",
              "      border-top-color: var(--fill-color);\n",
              "    }\n",
              "    30% {\n",
              "      border-color: transparent;\n",
              "      border-left-color: var(--fill-color);\n",
              "      border-top-color: var(--fill-color);\n",
              "      border-right-color: var(--fill-color);\n",
              "    }\n",
              "    40% {\n",
              "      border-color: transparent;\n",
              "      border-right-color: var(--fill-color);\n",
              "      border-top-color: var(--fill-color);\n",
              "    }\n",
              "    60% {\n",
              "      border-color: transparent;\n",
              "      border-right-color: var(--fill-color);\n",
              "    }\n",
              "    80% {\n",
              "      border-color: transparent;\n",
              "      border-right-color: var(--fill-color);\n",
              "      border-bottom-color: var(--fill-color);\n",
              "    }\n",
              "    90% {\n",
              "      border-color: transparent;\n",
              "      border-bottom-color: var(--fill-color);\n",
              "    }\n",
              "  }\n",
              "</style>\n",
              "\n",
              "  <script>\n",
              "    async function quickchart(key) {\n",
              "      const quickchartButtonEl =\n",
              "        document.querySelector('#' + key + ' button');\n",
              "      quickchartButtonEl.disabled = true;  // To prevent multiple clicks.\n",
              "      quickchartButtonEl.classList.add('colab-df-spinner');\n",
              "      try {\n",
              "        const charts = await google.colab.kernel.invokeFunction(\n",
              "            'suggestCharts', [key], {});\n",
              "      } catch (error) {\n",
              "        console.error('Error during call to suggestCharts:', error);\n",
              "      }\n",
              "      quickchartButtonEl.classList.remove('colab-df-spinner');\n",
              "      quickchartButtonEl.classList.add('colab-df-quickchart-complete');\n",
              "    }\n",
              "    (() => {\n",
              "      let quickchartButtonEl =\n",
              "        document.querySelector('#df-7bf14809-3e65-4963-a5bc-662991f7a9c7 button');\n",
              "      quickchartButtonEl.style.display =\n",
              "        google.colab.kernel.accessAllowed ? 'block' : 'none';\n",
              "    })();\n",
              "  </script>\n",
              "</div>\n",
              "    </div>\n",
              "  </div>\n"
            ],
            "application/vnd.google.colaboratory.intrinsic+json": {
              "type": "dataframe",
              "variable_name": "cleaned_df"
            }
          },
          "metadata": {},
          "execution_count": 11
        }
      ]
    },
    {
      "cell_type": "code",
      "source": [
        "# Breaking Questions by the 5 apartments\n",
        "apt1= pd.concat([cleaned_df.loc[:, : 'Q3_Price_Suggestion'], cleaned_df.loc[:, 'email': 'Treatment']], axis=1)\n",
        "apt2= pd.concat([cleaned_df.loc[:, : 'ResponseId'], cleaned_df.loc[:, 'Q4_Lease': 'Q6_Price_Suggestion'], cleaned_df.loc[:, 'email': 'Treatment']], axis=1)\n",
        "apt3= pd.concat([cleaned_df.loc[:, : 'ResponseId'], cleaned_df.loc[:, 'Q7_Lease': 'Q9_Price_Suggestion'], cleaned_df.loc[:, 'email': 'Treatment']], axis=1)\n",
        "apt4= pd.concat([cleaned_df.loc[:, : 'ResponseId'], cleaned_df.loc[:, 'Q10_Lease': 'Q12_Price_Suggestion'], cleaned_df.loc[:, 'email': 'Treatment']], axis=1)\n",
        "apt5= pd.concat([cleaned_df.loc[:, : 'ResponseId'], cleaned_df.loc[:, 'Q13_Lease': 'Q15_Price_Suggestion'], cleaned_df.loc[:, 'email': 'Treatment']], axis=1)"
      ],
      "metadata": {
        "id": "_rzCAixCLI0a"
      },
      "execution_count": 12,
      "outputs": []
    },
    {
      "cell_type": "code",
      "source": [
        "# Making a new column for apartments\n",
        "apt1[\"apt\"]= 1\n",
        "apt2[\"apt\"]= 2\n",
        "apt3[\"apt\"]= 3\n",
        "apt4[\"apt\"]= 4\n",
        "apt5[\"apt\"]= 5"
      ],
      "metadata": {
        "id": "wQKk_25aNO2X"
      },
      "execution_count": 13,
      "outputs": []
    },
    {
      "cell_type": "code",
      "source": [
        "for i in [apt1, apt2, apt3, apt4, apt5]:\n",
        "  i.columns = ['duration_sec', 'recorded_date', 'response_id', 'Q1_lease',\n",
        "       'Q2_price_perception', 'Q3_price_suggestion', 'email', 'age', 'gender',\n",
        "       'location_boston', 'employment_status', 'rent_budget', 'treatment',\n",
        "       'apt']"
      ],
      "metadata": {
        "id": "3wMdBaQ_O3WN"
      },
      "execution_count": 14,
      "outputs": []
    },
    {
      "cell_type": "code",
      "source": [
        "# Concatenating all apartments into one big dataframe\n",
        "updated_df = pd.concat([apt1, apt2, apt3, apt4, apt5], axis= 0)\n",
        "updated_df"
      ],
      "metadata": {
        "id": "P8cctdkLOpz3",
        "colab": {
          "base_uri": "https://localhost:8080/",
          "height": 617
        },
        "outputId": "13265108-eb38-4064-9406-2c3570810fa3"
      },
      "execution_count": 15,
      "outputs": [
        {
          "output_type": "execute_result",
          "data": {
            "text/plain": [
              "    duration_sec           recorded_date        response_id  \\\n",
              "1            188 2024-02-27 13:31:33.026  R_6S90sCDjHlApWi5   \n",
              "5            191 2024-02-27 13:44:05.415  R_77Ewar7atlUvSEb   \n",
              "7            322 2024-02-27 13:49:48.731  R_65TrFWIEO8xosXF   \n",
              "11           102 2024-02-27 14:48:47.512  R_6b18HmwhmiYYmHv   \n",
              "12           858 2024-02-27 14:54:41.324  R_6SjfJWeVI5ShnKg   \n",
              "..           ...                     ...                ...   \n",
              "70         33819 2024-02-28 19:47:40.692  R_7YLDMFaeIPdtuoJ   \n",
              "71           415 2024-02-29 11:28:39.383  R_3BkRubU5qMzp0Bz   \n",
              "73           246 2024-02-29 11:53:43.640  R_5L4PRTE6pdGMi7y   \n",
              "76           307 2024-02-29 13:05:07.040  R_3zGgdj2iIu6XXum   \n",
              "78           182 2024-02-29 19:54:24.399  R_1QKIBeDxdrhpy9b   \n",
              "\n",
              "              Q1_lease Q2_price_perception  Q3_price_suggestion  \\\n",
              "1     Extremely likely       Fairly priced                  NaN   \n",
              "5     Extremely likely       Fairly priced                  NaN   \n",
              "7      Somewhat likely       Fairly priced                  NaN   \n",
              "11    Extremely likely       Fairly priced                  NaN   \n",
              "12  Extremely unlikely          Overpriced                800.0   \n",
              "..                 ...                 ...                  ...   \n",
              "70  Extremely unlikely          Overpriced               2000.0   \n",
              "71  Extremely unlikely          Overpriced               1500.0   \n",
              "73  Extremely unlikely          Overpriced               1700.0   \n",
              "76  Extremely unlikely       Fairly priced                  NaN   \n",
              "78  Extremely unlikely          Overpriced                900.0   \n",
              "\n",
              "                           email  age gender location_boston  \\\n",
              "1                  neehak@bu.edu   23  Woman             Yes   \n",
              "5                  artemv@bu.edu   23    Man             Yes   \n",
              "7                loreleil@bu.edu   26  Woman             Yes   \n",
              "11         skylar80031@gmail.com   22  Woman             Yes   \n",
              "12         8s0g37we2@mozmail.com   19  Woman             Yes   \n",
              "..                           ...  ...    ...             ...   \n",
              "70  abhishek.alchemist@gmail.com   31    Man              No   \n",
              "71           kiakane23@gmail.com   22  Woman              No   \n",
              "73       barrie.abdul7@gmail.com   25    Man              No   \n",
              "76          mcherif360@gmail.com   19  Woman              No   \n",
              "78           aichabahd@gmail.com   38  Woman              No   \n",
              "\n",
              "     employment_status  rent_budget treatment  apt  \n",
              "1   Employed Part-time       1000.0    Block1    1  \n",
              "5   Employed Full-time       1000.0    Block1    1  \n",
              "7           Unemployed       1300.0    Block1    1  \n",
              "11  Employed Part-time          NaN    Block1    1  \n",
              "12          Unemployed          NaN    Block1    1  \n",
              "..                 ...          ...       ...  ...  \n",
              "70  Employed Full-time       3000.0    Block2    5  \n",
              "71  Employed Part-time       1700.0    Block2    5  \n",
              "73          Unemployed       1000.0    Block2    5  \n",
              "76          Unemployed          NaN    Block2    5  \n",
              "78  Employed Full-time       1500.0    Block2    5  \n",
              "\n",
              "[395 rows x 14 columns]"
            ],
            "text/html": [
              "\n",
              "  <div id=\"df-23b996f9-0211-4150-98b2-126c0ba2b645\" class=\"colab-df-container\">\n",
              "    <div>\n",
              "<style scoped>\n",
              "    .dataframe tbody tr th:only-of-type {\n",
              "        vertical-align: middle;\n",
              "    }\n",
              "\n",
              "    .dataframe tbody tr th {\n",
              "        vertical-align: top;\n",
              "    }\n",
              "\n",
              "    .dataframe thead th {\n",
              "        text-align: right;\n",
              "    }\n",
              "</style>\n",
              "<table border=\"1\" class=\"dataframe\">\n",
              "  <thead>\n",
              "    <tr style=\"text-align: right;\">\n",
              "      <th></th>\n",
              "      <th>duration_sec</th>\n",
              "      <th>recorded_date</th>\n",
              "      <th>response_id</th>\n",
              "      <th>Q1_lease</th>\n",
              "      <th>Q2_price_perception</th>\n",
              "      <th>Q3_price_suggestion</th>\n",
              "      <th>email</th>\n",
              "      <th>age</th>\n",
              "      <th>gender</th>\n",
              "      <th>location_boston</th>\n",
              "      <th>employment_status</th>\n",
              "      <th>rent_budget</th>\n",
              "      <th>treatment</th>\n",
              "      <th>apt</th>\n",
              "    </tr>\n",
              "  </thead>\n",
              "  <tbody>\n",
              "    <tr>\n",
              "      <th>1</th>\n",
              "      <td>188</td>\n",
              "      <td>2024-02-27 13:31:33.026</td>\n",
              "      <td>R_6S90sCDjHlApWi5</td>\n",
              "      <td>Extremely likely</td>\n",
              "      <td>Fairly priced</td>\n",
              "      <td>NaN</td>\n",
              "      <td>neehak@bu.edu</td>\n",
              "      <td>23</td>\n",
              "      <td>Woman</td>\n",
              "      <td>Yes</td>\n",
              "      <td>Employed Part-time</td>\n",
              "      <td>1000.0</td>\n",
              "      <td>Block1</td>\n",
              "      <td>1</td>\n",
              "    </tr>\n",
              "    <tr>\n",
              "      <th>5</th>\n",
              "      <td>191</td>\n",
              "      <td>2024-02-27 13:44:05.415</td>\n",
              "      <td>R_77Ewar7atlUvSEb</td>\n",
              "      <td>Extremely likely</td>\n",
              "      <td>Fairly priced</td>\n",
              "      <td>NaN</td>\n",
              "      <td>artemv@bu.edu</td>\n",
              "      <td>23</td>\n",
              "      <td>Man</td>\n",
              "      <td>Yes</td>\n",
              "      <td>Employed Full-time</td>\n",
              "      <td>1000.0</td>\n",
              "      <td>Block1</td>\n",
              "      <td>1</td>\n",
              "    </tr>\n",
              "    <tr>\n",
              "      <th>7</th>\n",
              "      <td>322</td>\n",
              "      <td>2024-02-27 13:49:48.731</td>\n",
              "      <td>R_65TrFWIEO8xosXF</td>\n",
              "      <td>Somewhat likely</td>\n",
              "      <td>Fairly priced</td>\n",
              "      <td>NaN</td>\n",
              "      <td>loreleil@bu.edu</td>\n",
              "      <td>26</td>\n",
              "      <td>Woman</td>\n",
              "      <td>Yes</td>\n",
              "      <td>Unemployed</td>\n",
              "      <td>1300.0</td>\n",
              "      <td>Block1</td>\n",
              "      <td>1</td>\n",
              "    </tr>\n",
              "    <tr>\n",
              "      <th>11</th>\n",
              "      <td>102</td>\n",
              "      <td>2024-02-27 14:48:47.512</td>\n",
              "      <td>R_6b18HmwhmiYYmHv</td>\n",
              "      <td>Extremely likely</td>\n",
              "      <td>Fairly priced</td>\n",
              "      <td>NaN</td>\n",
              "      <td>skylar80031@gmail.com</td>\n",
              "      <td>22</td>\n",
              "      <td>Woman</td>\n",
              "      <td>Yes</td>\n",
              "      <td>Employed Part-time</td>\n",
              "      <td>NaN</td>\n",
              "      <td>Block1</td>\n",
              "      <td>1</td>\n",
              "    </tr>\n",
              "    <tr>\n",
              "      <th>12</th>\n",
              "      <td>858</td>\n",
              "      <td>2024-02-27 14:54:41.324</td>\n",
              "      <td>R_6SjfJWeVI5ShnKg</td>\n",
              "      <td>Extremely unlikely</td>\n",
              "      <td>Overpriced</td>\n",
              "      <td>800.0</td>\n",
              "      <td>8s0g37we2@mozmail.com</td>\n",
              "      <td>19</td>\n",
              "      <td>Woman</td>\n",
              "      <td>Yes</td>\n",
              "      <td>Unemployed</td>\n",
              "      <td>NaN</td>\n",
              "      <td>Block1</td>\n",
              "      <td>1</td>\n",
              "    </tr>\n",
              "    <tr>\n",
              "      <th>...</th>\n",
              "      <td>...</td>\n",
              "      <td>...</td>\n",
              "      <td>...</td>\n",
              "      <td>...</td>\n",
              "      <td>...</td>\n",
              "      <td>...</td>\n",
              "      <td>...</td>\n",
              "      <td>...</td>\n",
              "      <td>...</td>\n",
              "      <td>...</td>\n",
              "      <td>...</td>\n",
              "      <td>...</td>\n",
              "      <td>...</td>\n",
              "      <td>...</td>\n",
              "    </tr>\n",
              "    <tr>\n",
              "      <th>70</th>\n",
              "      <td>33819</td>\n",
              "      <td>2024-02-28 19:47:40.692</td>\n",
              "      <td>R_7YLDMFaeIPdtuoJ</td>\n",
              "      <td>Extremely unlikely</td>\n",
              "      <td>Overpriced</td>\n",
              "      <td>2000.0</td>\n",
              "      <td>abhishek.alchemist@gmail.com</td>\n",
              "      <td>31</td>\n",
              "      <td>Man</td>\n",
              "      <td>No</td>\n",
              "      <td>Employed Full-time</td>\n",
              "      <td>3000.0</td>\n",
              "      <td>Block2</td>\n",
              "      <td>5</td>\n",
              "    </tr>\n",
              "    <tr>\n",
              "      <th>71</th>\n",
              "      <td>415</td>\n",
              "      <td>2024-02-29 11:28:39.383</td>\n",
              "      <td>R_3BkRubU5qMzp0Bz</td>\n",
              "      <td>Extremely unlikely</td>\n",
              "      <td>Overpriced</td>\n",
              "      <td>1500.0</td>\n",
              "      <td>kiakane23@gmail.com</td>\n",
              "      <td>22</td>\n",
              "      <td>Woman</td>\n",
              "      <td>No</td>\n",
              "      <td>Employed Part-time</td>\n",
              "      <td>1700.0</td>\n",
              "      <td>Block2</td>\n",
              "      <td>5</td>\n",
              "    </tr>\n",
              "    <tr>\n",
              "      <th>73</th>\n",
              "      <td>246</td>\n",
              "      <td>2024-02-29 11:53:43.640</td>\n",
              "      <td>R_5L4PRTE6pdGMi7y</td>\n",
              "      <td>Extremely unlikely</td>\n",
              "      <td>Overpriced</td>\n",
              "      <td>1700.0</td>\n",
              "      <td>barrie.abdul7@gmail.com</td>\n",
              "      <td>25</td>\n",
              "      <td>Man</td>\n",
              "      <td>No</td>\n",
              "      <td>Unemployed</td>\n",
              "      <td>1000.0</td>\n",
              "      <td>Block2</td>\n",
              "      <td>5</td>\n",
              "    </tr>\n",
              "    <tr>\n",
              "      <th>76</th>\n",
              "      <td>307</td>\n",
              "      <td>2024-02-29 13:05:07.040</td>\n",
              "      <td>R_3zGgdj2iIu6XXum</td>\n",
              "      <td>Extremely unlikely</td>\n",
              "      <td>Fairly priced</td>\n",
              "      <td>NaN</td>\n",
              "      <td>mcherif360@gmail.com</td>\n",
              "      <td>19</td>\n",
              "      <td>Woman</td>\n",
              "      <td>No</td>\n",
              "      <td>Unemployed</td>\n",
              "      <td>NaN</td>\n",
              "      <td>Block2</td>\n",
              "      <td>5</td>\n",
              "    </tr>\n",
              "    <tr>\n",
              "      <th>78</th>\n",
              "      <td>182</td>\n",
              "      <td>2024-02-29 19:54:24.399</td>\n",
              "      <td>R_1QKIBeDxdrhpy9b</td>\n",
              "      <td>Extremely unlikely</td>\n",
              "      <td>Overpriced</td>\n",
              "      <td>900.0</td>\n",
              "      <td>aichabahd@gmail.com</td>\n",
              "      <td>38</td>\n",
              "      <td>Woman</td>\n",
              "      <td>No</td>\n",
              "      <td>Employed Full-time</td>\n",
              "      <td>1500.0</td>\n",
              "      <td>Block2</td>\n",
              "      <td>5</td>\n",
              "    </tr>\n",
              "  </tbody>\n",
              "</table>\n",
              "<p>395 rows × 14 columns</p>\n",
              "</div>\n",
              "    <div class=\"colab-df-buttons\">\n",
              "\n",
              "  <div class=\"colab-df-container\">\n",
              "    <button class=\"colab-df-convert\" onclick=\"convertToInteractive('df-23b996f9-0211-4150-98b2-126c0ba2b645')\"\n",
              "            title=\"Convert this dataframe to an interactive table.\"\n",
              "            style=\"display:none;\">\n",
              "\n",
              "  <svg xmlns=\"http://www.w3.org/2000/svg\" height=\"24px\" viewBox=\"0 -960 960 960\">\n",
              "    <path d=\"M120-120v-720h720v720H120Zm60-500h600v-160H180v160Zm220 220h160v-160H400v160Zm0 220h160v-160H400v160ZM180-400h160v-160H180v160Zm440 0h160v-160H620v160ZM180-180h160v-160H180v160Zm440 0h160v-160H620v160Z\"/>\n",
              "  </svg>\n",
              "    </button>\n",
              "\n",
              "  <style>\n",
              "    .colab-df-container {\n",
              "      display:flex;\n",
              "      gap: 12px;\n",
              "    }\n",
              "\n",
              "    .colab-df-convert {\n",
              "      background-color: #E8F0FE;\n",
              "      border: none;\n",
              "      border-radius: 50%;\n",
              "      cursor: pointer;\n",
              "      display: none;\n",
              "      fill: #1967D2;\n",
              "      height: 32px;\n",
              "      padding: 0 0 0 0;\n",
              "      width: 32px;\n",
              "    }\n",
              "\n",
              "    .colab-df-convert:hover {\n",
              "      background-color: #E2EBFA;\n",
              "      box-shadow: 0px 1px 2px rgba(60, 64, 67, 0.3), 0px 1px 3px 1px rgba(60, 64, 67, 0.15);\n",
              "      fill: #174EA6;\n",
              "    }\n",
              "\n",
              "    .colab-df-buttons div {\n",
              "      margin-bottom: 4px;\n",
              "    }\n",
              "\n",
              "    [theme=dark] .colab-df-convert {\n",
              "      background-color: #3B4455;\n",
              "      fill: #D2E3FC;\n",
              "    }\n",
              "\n",
              "    [theme=dark] .colab-df-convert:hover {\n",
              "      background-color: #434B5C;\n",
              "      box-shadow: 0px 1px 3px 1px rgba(0, 0, 0, 0.15);\n",
              "      filter: drop-shadow(0px 1px 2px rgba(0, 0, 0, 0.3));\n",
              "      fill: #FFFFFF;\n",
              "    }\n",
              "  </style>\n",
              "\n",
              "    <script>\n",
              "      const buttonEl =\n",
              "        document.querySelector('#df-23b996f9-0211-4150-98b2-126c0ba2b645 button.colab-df-convert');\n",
              "      buttonEl.style.display =\n",
              "        google.colab.kernel.accessAllowed ? 'block' : 'none';\n",
              "\n",
              "      async function convertToInteractive(key) {\n",
              "        const element = document.querySelector('#df-23b996f9-0211-4150-98b2-126c0ba2b645');\n",
              "        const dataTable =\n",
              "          await google.colab.kernel.invokeFunction('convertToInteractive',\n",
              "                                                    [key], {});\n",
              "        if (!dataTable) return;\n",
              "\n",
              "        const docLinkHtml = 'Like what you see? Visit the ' +\n",
              "          '<a target=\"_blank\" href=https://colab.research.google.com/notebooks/data_table.ipynb>data table notebook</a>'\n",
              "          + ' to learn more about interactive tables.';\n",
              "        element.innerHTML = '';\n",
              "        dataTable['output_type'] = 'display_data';\n",
              "        await google.colab.output.renderOutput(dataTable, element);\n",
              "        const docLink = document.createElement('div');\n",
              "        docLink.innerHTML = docLinkHtml;\n",
              "        element.appendChild(docLink);\n",
              "      }\n",
              "    </script>\n",
              "  </div>\n",
              "\n",
              "\n",
              "<div id=\"df-54530240-42b0-4181-a029-3cc2b35df5e1\">\n",
              "  <button class=\"colab-df-quickchart\" onclick=\"quickchart('df-54530240-42b0-4181-a029-3cc2b35df5e1')\"\n",
              "            title=\"Suggest charts\"\n",
              "            style=\"display:none;\">\n",
              "\n",
              "<svg xmlns=\"http://www.w3.org/2000/svg\" height=\"24px\"viewBox=\"0 0 24 24\"\n",
              "     width=\"24px\">\n",
              "    <g>\n",
              "        <path d=\"M19 3H5c-1.1 0-2 .9-2 2v14c0 1.1.9 2 2 2h14c1.1 0 2-.9 2-2V5c0-1.1-.9-2-2-2zM9 17H7v-7h2v7zm4 0h-2V7h2v10zm4 0h-2v-4h2v4z\"/>\n",
              "    </g>\n",
              "</svg>\n",
              "  </button>\n",
              "\n",
              "<style>\n",
              "  .colab-df-quickchart {\n",
              "      --bg-color: #E8F0FE;\n",
              "      --fill-color: #1967D2;\n",
              "      --hover-bg-color: #E2EBFA;\n",
              "      --hover-fill-color: #174EA6;\n",
              "      --disabled-fill-color: #AAA;\n",
              "      --disabled-bg-color: #DDD;\n",
              "  }\n",
              "\n",
              "  [theme=dark] .colab-df-quickchart {\n",
              "      --bg-color: #3B4455;\n",
              "      --fill-color: #D2E3FC;\n",
              "      --hover-bg-color: #434B5C;\n",
              "      --hover-fill-color: #FFFFFF;\n",
              "      --disabled-bg-color: #3B4455;\n",
              "      --disabled-fill-color: #666;\n",
              "  }\n",
              "\n",
              "  .colab-df-quickchart {\n",
              "    background-color: var(--bg-color);\n",
              "    border: none;\n",
              "    border-radius: 50%;\n",
              "    cursor: pointer;\n",
              "    display: none;\n",
              "    fill: var(--fill-color);\n",
              "    height: 32px;\n",
              "    padding: 0;\n",
              "    width: 32px;\n",
              "  }\n",
              "\n",
              "  .colab-df-quickchart:hover {\n",
              "    background-color: var(--hover-bg-color);\n",
              "    box-shadow: 0 1px 2px rgba(60, 64, 67, 0.3), 0 1px 3px 1px rgba(60, 64, 67, 0.15);\n",
              "    fill: var(--button-hover-fill-color);\n",
              "  }\n",
              "\n",
              "  .colab-df-quickchart-complete:disabled,\n",
              "  .colab-df-quickchart-complete:disabled:hover {\n",
              "    background-color: var(--disabled-bg-color);\n",
              "    fill: var(--disabled-fill-color);\n",
              "    box-shadow: none;\n",
              "  }\n",
              "\n",
              "  .colab-df-spinner {\n",
              "    border: 2px solid var(--fill-color);\n",
              "    border-color: transparent;\n",
              "    border-bottom-color: var(--fill-color);\n",
              "    animation:\n",
              "      spin 1s steps(1) infinite;\n",
              "  }\n",
              "\n",
              "  @keyframes spin {\n",
              "    0% {\n",
              "      border-color: transparent;\n",
              "      border-bottom-color: var(--fill-color);\n",
              "      border-left-color: var(--fill-color);\n",
              "    }\n",
              "    20% {\n",
              "      border-color: transparent;\n",
              "      border-left-color: var(--fill-color);\n",
              "      border-top-color: var(--fill-color);\n",
              "    }\n",
              "    30% {\n",
              "      border-color: transparent;\n",
              "      border-left-color: var(--fill-color);\n",
              "      border-top-color: var(--fill-color);\n",
              "      border-right-color: var(--fill-color);\n",
              "    }\n",
              "    40% {\n",
              "      border-color: transparent;\n",
              "      border-right-color: var(--fill-color);\n",
              "      border-top-color: var(--fill-color);\n",
              "    }\n",
              "    60% {\n",
              "      border-color: transparent;\n",
              "      border-right-color: var(--fill-color);\n",
              "    }\n",
              "    80% {\n",
              "      border-color: transparent;\n",
              "      border-right-color: var(--fill-color);\n",
              "      border-bottom-color: var(--fill-color);\n",
              "    }\n",
              "    90% {\n",
              "      border-color: transparent;\n",
              "      border-bottom-color: var(--fill-color);\n",
              "    }\n",
              "  }\n",
              "</style>\n",
              "\n",
              "  <script>\n",
              "    async function quickchart(key) {\n",
              "      const quickchartButtonEl =\n",
              "        document.querySelector('#' + key + ' button');\n",
              "      quickchartButtonEl.disabled = true;  // To prevent multiple clicks.\n",
              "      quickchartButtonEl.classList.add('colab-df-spinner');\n",
              "      try {\n",
              "        const charts = await google.colab.kernel.invokeFunction(\n",
              "            'suggestCharts', [key], {});\n",
              "      } catch (error) {\n",
              "        console.error('Error during call to suggestCharts:', error);\n",
              "      }\n",
              "      quickchartButtonEl.classList.remove('colab-df-spinner');\n",
              "      quickchartButtonEl.classList.add('colab-df-quickchart-complete');\n",
              "    }\n",
              "    (() => {\n",
              "      let quickchartButtonEl =\n",
              "        document.querySelector('#df-54530240-42b0-4181-a029-3cc2b35df5e1 button');\n",
              "      quickchartButtonEl.style.display =\n",
              "        google.colab.kernel.accessAllowed ? 'block' : 'none';\n",
              "    })();\n",
              "  </script>\n",
              "</div>\n",
              "    </div>\n",
              "  </div>\n"
            ],
            "application/vnd.google.colaboratory.intrinsic+json": {
              "type": "dataframe",
              "variable_name": "updated_df",
              "summary": "{\n  \"name\": \"updated_df\",\n  \"rows\": 395,\n  \"fields\": [\n    {\n      \"column\": \"duration_sec\",\n      \"properties\": {\n        \"dtype\": \"number\",\n        \"std\": 9547,\n        \"min\": 102,\n        \"max\": 65455,\n        \"num_unique_values\": 71,\n        \"samples\": [\n          1935,\n          188,\n          23255\n        ],\n        \"semantic_type\": \"\",\n        \"description\": \"\"\n      }\n    },\n    {\n      \"column\": \"recorded_date\",\n      \"properties\": {\n        \"dtype\": \"date\",\n        \"min\": \"2024-02-27 13:04:41.032000\",\n        \"max\": \"2024-02-29 19:54:24.399000\",\n        \"num_unique_values\": 79,\n        \"samples\": [\n          \"2024-02-28 11:58:16.635000\",\n          \"2024-02-27 13:31:33.026000\",\n          \"2024-02-27 22:07:56.440000\"\n        ],\n        \"semantic_type\": \"\",\n        \"description\": \"\"\n      }\n    },\n    {\n      \"column\": \"response_id\",\n      \"properties\": {\n        \"dtype\": \"category\",\n        \"num_unique_values\": 79,\n        \"samples\": [\n          \"R_63fo9sfb8TT1vZ6\",\n          \"R_6S90sCDjHlApWi5\",\n          \"R_6wCTfYkBjUCofux\"\n        ],\n        \"semantic_type\": \"\",\n        \"description\": \"\"\n      }\n    },\n    {\n      \"column\": \"Q1_lease\",\n      \"properties\": {\n        \"dtype\": \"category\",\n        \"num_unique_values\": 5,\n        \"samples\": [\n          \"Somewhat likely\",\n          \"Somewhat unlikely\",\n          \"Extremely unlikely\"\n        ],\n        \"semantic_type\": \"\",\n        \"description\": \"\"\n      }\n    },\n    {\n      \"column\": \"Q2_price_perception\",\n      \"properties\": {\n        \"dtype\": \"category\",\n        \"num_unique_values\": 3,\n        \"samples\": [\n          \"Fairly priced\",\n          \"Overpriced\",\n          \"Underpriced\"\n        ],\n        \"semantic_type\": \"\",\n        \"description\": \"\"\n      }\n    },\n    {\n      \"column\": \"Q3_price_suggestion\",\n      \"properties\": {\n        \"dtype\": \"number\",\n        \"std\": 686.5923453895048,\n        \"min\": 450.0,\n        \"max\": 3500.0,\n        \"num_unique_values\": 39,\n        \"samples\": [\n          1120.0,\n          1900.0,\n          1300.0\n        ],\n        \"semantic_type\": \"\",\n        \"description\": \"\"\n      }\n    },\n    {\n      \"column\": \"email\",\n      \"properties\": {\n        \"dtype\": \"category\",\n        \"num_unique_values\": 79,\n        \"samples\": [\n          \"anant.subramanian15@gmail.com\",\n          \"neehak@bu.edu\",\n          \"spam@yahoo.com\"\n        ],\n        \"semantic_type\": \"\",\n        \"description\": \"\"\n      }\n    },\n    {\n      \"column\": \"age\",\n      \"properties\": {\n        \"dtype\": \"number\",\n        \"std\": 5,\n        \"min\": 19,\n        \"max\": 56,\n        \"num_unique_values\": 16,\n        \"samples\": [\n          23,\n          26,\n          24\n        ],\n        \"semantic_type\": \"\",\n        \"description\": \"\"\n      }\n    },\n    {\n      \"column\": \"gender\",\n      \"properties\": {\n        \"dtype\": \"category\",\n        \"num_unique_values\": 5,\n        \"samples\": [\n          \"Man\",\n          \"Other:\",\n          \"Genderqueer/ Gender Non-Conforming\"\n        ],\n        \"semantic_type\": \"\",\n        \"description\": \"\"\n      }\n    },\n    {\n      \"column\": \"location_boston\",\n      \"properties\": {\n        \"dtype\": \"category\",\n        \"num_unique_values\": 2,\n        \"samples\": [\n          \"No\",\n          \"Yes\"\n        ],\n        \"semantic_type\": \"\",\n        \"description\": \"\"\n      }\n    },\n    {\n      \"column\": \"employment_status\",\n      \"properties\": {\n        \"dtype\": \"category\",\n        \"num_unique_values\": 3,\n        \"samples\": [\n          \"Employed Part-time\",\n          \"Employed Full-time\"\n        ],\n        \"semantic_type\": \"\",\n        \"description\": \"\"\n      }\n    },\n    {\n      \"column\": \"rent_budget\",\n      \"properties\": {\n        \"dtype\": \"number\",\n        \"std\": 1156.846338448132,\n        \"min\": 300.0,\n        \"max\": 8000.0,\n        \"num_unique_values\": 25,\n        \"samples\": [\n          1200.0,\n          1100.0\n        ],\n        \"semantic_type\": \"\",\n        \"description\": \"\"\n      }\n    },\n    {\n      \"column\": \"treatment\",\n      \"properties\": {\n        \"dtype\": \"category\",\n        \"num_unique_values\": 2,\n        \"samples\": [\n          \"Block2\",\n          \"Block1\"\n        ],\n        \"semantic_type\": \"\",\n        \"description\": \"\"\n      }\n    },\n    {\n      \"column\": \"apt\",\n      \"properties\": {\n        \"dtype\": \"number\",\n        \"std\": 1,\n        \"min\": 1,\n        \"max\": 5,\n        \"num_unique_values\": 5,\n        \"samples\": [\n          2,\n          5\n        ],\n        \"semantic_type\": \"\",\n        \"description\": \"\"\n      }\n    }\n  ]\n}"
            }
          },
          "metadata": {},
          "execution_count": 15
        }
      ]
    },
    {
      "cell_type": "code",
      "source": [
        "updated_df.info()"
      ],
      "metadata": {
        "id": "2mDkKOrWr3l9",
        "colab": {
          "base_uri": "https://localhost:8080/"
        },
        "outputId": "dbd27c1f-6bf5-4a03-cc2f-5a66e8b3e4ed"
      },
      "execution_count": 16,
      "outputs": [
        {
          "output_type": "stream",
          "name": "stdout",
          "text": [
            "<class 'pandas.core.frame.DataFrame'>\n",
            "Int64Index: 395 entries, 1 to 78\n",
            "Data columns (total 14 columns):\n",
            " #   Column               Non-Null Count  Dtype         \n",
            "---  ------               --------------  -----         \n",
            " 0   duration_sec         395 non-null    int64         \n",
            " 1   recorded_date        395 non-null    datetime64[ns]\n",
            " 2   response_id          395 non-null    object        \n",
            " 3   Q1_lease             395 non-null    object        \n",
            " 4   Q2_price_perception  395 non-null    object        \n",
            " 5   Q3_price_suggestion  211 non-null    float64       \n",
            " 6   email                395 non-null    object        \n",
            " 7   age                  395 non-null    int64         \n",
            " 8   gender               395 non-null    object        \n",
            " 9   location_boston      395 non-null    object        \n",
            " 10  employment_status    395 non-null    object        \n",
            " 11  rent_budget          280 non-null    float64       \n",
            " 12  treatment            395 non-null    object        \n",
            " 13  apt                  395 non-null    int64         \n",
            "dtypes: datetime64[ns](1), float64(2), int64(3), object(8)\n",
            "memory usage: 46.3+ KB\n"
          ]
        }
      ]
    },
    {
      "cell_type": "code",
      "source": [
        "# Imputing price suggestion column with fairly priced answers\n",
        "updated_df['Q2_price_perception'] = updated_df['Q2_price_perception'].fillna('Not specified')\n",
        "# Iterate over the DataFrame\n",
        "for index, row in updated_df.iterrows():\n",
        "    if row['Q2_price_perception'] == 'Fairly priced':\n",
        "        if row['apt'] == 1:\n",
        "            updated_df.loc[index, 'Q3_price_suggestion'] = 1123\n",
        "        elif row['apt'] == 2:\n",
        "            updated_df.loc[index, 'Q3_price_suggestion'] = 1178.78\n",
        "        elif row['apt'] == 3:\n",
        "            updated_df.loc[index, 'Q3_price_suggestion'] = 1950\n",
        "        elif row['apt'] == 4:\n",
        "            updated_df.loc[index, 'Q3_price_suggestion'] = 2649\n",
        "        else:\n",
        "            updated_df.loc[index, 'Q3_price_suggestion'] = 2985"
      ],
      "metadata": {
        "id": "qY0OXXf-3S5D"
      },
      "execution_count": 17,
      "outputs": []
    },
    {
      "cell_type": "code",
      "source": [
        "# Changing the treatment column to 1s and 0s\n",
        "updated_df['treatment']= updated_df['treatment'].apply(lambda x: 1 if x == 'Block1' else 0)"
      ],
      "metadata": {
        "id": "KYyzsZd8Xl3n"
      },
      "execution_count": 18,
      "outputs": []
    },
    {
      "cell_type": "code",
      "source": [
        "# Replacing null values in the rent_budget column with nan\n",
        "updated_df['rent_budget'] = updated_df['rent_budget'].fillna(np.nan)"
      ],
      "metadata": {
        "id": "si56aSQh5Jhl"
      },
      "execution_count": 19,
      "outputs": []
    },
    {
      "cell_type": "code",
      "source": [
        "# Changing location_boston column to 1s and 0s\n",
        "updated_df['location_boston']= updated_df['location_boston'].apply(lambda x: 1 if x == 'Yes' else 0)"
      ],
      "metadata": {
        "id": "7ip59twS5dz5"
      },
      "execution_count": 20,
      "outputs": []
    },
    {
      "cell_type": "code",
      "source": [
        "# Mapping Q1 to numbers\n",
        "updated_df['Q1_lease'] = updated_df['Q1_lease'].replace({\n",
        "    \"Extremely unlikely\": 1,\n",
        "    \"Somewhat unlikely\": 2,\n",
        "    \"Neither likely nor unlikely\": 3,\n",
        "    \"Somewhat likely\": 4,\n",
        "    \"Extremely likely\": 5\n",
        "}, inplace=False)"
      ],
      "metadata": {
        "id": "_tE1J89H8lP5"
      },
      "execution_count": 21,
      "outputs": []
    },
    {
      "cell_type": "code",
      "source": [
        "# Mapping Q2 to numbers\n",
        "updated_df['Q2_price_perception'] = updated_df['Q2_price_perception'].replace({\n",
        "    \"Underpriced\": 1,\n",
        "    \"Fairly priced\": 2,\n",
        "    \"Overpriced\": 3\n",
        "}, inplace=False)"
      ],
      "metadata": {
        "id": "u4JISFvqCXF8"
      },
      "execution_count": 22,
      "outputs": []
    },
    {
      "cell_type": "code",
      "source": [
        "# Mapping employment status to numbers\n",
        "updated_df['employment_status'] = updated_df['employment_status'].replace({\n",
        "    \"Unemployed\": 1,\n",
        "    \"Employed Full-time\": 2,\n",
        "    \"Employed\": 3\n",
        "}, inplace=False)"
      ],
      "metadata": {
        "id": "VWRWWRJVXWme"
      },
      "execution_count": 23,
      "outputs": []
    },
    {
      "cell_type": "code",
      "source": [
        "# Changing data types accordingly\n",
        "updated_df = updated_df.astype({\n",
        "     'Q1_lease': 'int',\n",
        "    'Q2_price_perception': 'int',\n",
        "    'email': 'string',\n",
        "    'gender': 'category',\n",
        "    'location_boston': 'category',\n",
        "    'employment_status': 'category',\n",
        "    'rent_budget': 'float',\n",
        "    'treatment': 'category',\n",
        "    'apt': 'category'})"
      ],
      "metadata": {
        "id": "FW46I2nZ6OcE"
      },
      "execution_count": 24,
      "outputs": []
    },
    {
      "cell_type": "code",
      "source": [
        "updated_df.info()"
      ],
      "metadata": {
        "colab": {
          "base_uri": "https://localhost:8080/"
        },
        "id": "-HT3RXu4zpCi",
        "outputId": "de451df4-cd1c-4e5e-edaf-5295002b56fe"
      },
      "execution_count": 25,
      "outputs": [
        {
          "output_type": "stream",
          "name": "stdout",
          "text": [
            "<class 'pandas.core.frame.DataFrame'>\n",
            "Int64Index: 395 entries, 1 to 78\n",
            "Data columns (total 14 columns):\n",
            " #   Column               Non-Null Count  Dtype         \n",
            "---  ------               --------------  -----         \n",
            " 0   duration_sec         395 non-null    int64         \n",
            " 1   recorded_date        395 non-null    datetime64[ns]\n",
            " 2   response_id          395 non-null    object        \n",
            " 3   Q1_lease             395 non-null    int64         \n",
            " 4   Q2_price_perception  395 non-null    int64         \n",
            " 5   Q3_price_suggestion  395 non-null    float64       \n",
            " 6   email                395 non-null    string        \n",
            " 7   age                  395 non-null    int64         \n",
            " 8   gender               395 non-null    category      \n",
            " 9   location_boston      395 non-null    category      \n",
            " 10  employment_status    395 non-null    category      \n",
            " 11  rent_budget          280 non-null    float64       \n",
            " 12  treatment            395 non-null    category      \n",
            " 13  apt                  395 non-null    category      \n",
            "dtypes: category(5), datetime64[ns](1), float64(2), int64(4), object(1), string(1)\n",
            "memory usage: 49.7+ KB\n"
          ]
        }
      ]
    },
    {
      "cell_type": "markdown",
      "source": [
        "## Exploratory Data Analysis"
      ],
      "metadata": {
        "id": "uvTUjrisTZtW"
      }
    },
    {
      "cell_type": "markdown",
      "source": [
        "### The distribution of respondents in treatment vs control group"
      ],
      "metadata": {
        "id": "fRmkIBR4SrOm"
      }
    },
    {
      "cell_type": "code",
      "source": [
        "# Getting the value counts of 'location_boston'\n",
        "value_counts = df['Treatment'].value_counts()\n",
        "\n",
        "# Creating a bar plot\n",
        "plt.figure(figsize=(7, 5))\n",
        "value_counts.plot(kind='bar', color=['darkblue','darkred'], edgecolor='black')\n",
        "plt.title('Value Counts treated vs control', fontsize=16)\n",
        "plt.ylabel('Count', fontsize=14)\n",
        "plt.xlabel('Groups', fontsize=14)\n",
        "plt.xticks(ticks=[0, 1], labels=['Treatment', 'Control'], rotation=0, fontsize=12)\n",
        "plt.yticks(fontsize=12)\n",
        "plt.tight_layout()\n",
        "plt.show()\n"
      ],
      "metadata": {
        "id": "6JiwHNxMSpww",
        "colab": {
          "base_uri": "https://localhost:8080/",
          "height": 507
        },
        "outputId": "7e16abe4-c5d7-4bae-8e48-9928f32e23e1"
      },
      "execution_count": 26,
      "outputs": [
        {
          "output_type": "display_data",
          "data": {
            "text/plain": [
              "<Figure size 700x500 with 1 Axes>"
            ],
            "image/png": "[encoded data removed]"
          },
          "metadata": {}
        }
      ]
    },
    {
      "cell_type": "markdown",
      "source": [
        "### Distribution of respondents according to their location"
      ],
      "metadata": {
        "id": "rZz2YW0VQuCk"
      }
    },
    {
      "cell_type": "code",
      "source": [
        "# Getting the value counts of 'location_boston'\n",
        "value_counts = df['location_boston'].value_counts()\n",
        "\n",
        "# Creating a bar plot\n",
        "plt.figure(figsize=(7, 5))\n",
        "value_counts.plot(kind='bar', color='darkblue', edgecolor='black')\n",
        "plt.title('Value Counts of Location in Boston', fontsize=16)\n",
        "plt.xlabel('Is the respondent from Boston?', fontsize=14)\n",
        "plt.ylabel('Count', fontsize=14)\n",
        "plt.xticks(rotation=45, ha='right', fontsize=12)\n",
        "plt.yticks(fontsize=12)\n",
        "plt.tight_layout()\n",
        "plt.show()\n"
      ],
      "metadata": {
        "id": "d4ZhvsCfQxjb",
        "colab": {
          "base_uri": "https://localhost:8080/",
          "height": 507
        },
        "outputId": "8963021f-3c9b-4ff7-d06b-4187d189532a"
      },
      "execution_count": 27,
      "outputs": [
        {
          "output_type": "display_data",
          "data": {
            "text/plain": [
              "<Figure size 700x500 with 1 Axes>"
            ],
            "image/png": "[encoded data removed]"
          },
          "metadata": {}
        }
      ]
    },
    {
      "cell_type": "markdown",
      "source": [
        "### Distribution of respondents according to their Genders"
      ],
      "metadata": {
        "id": "cFJ_hjz2RY9Q"
      }
    },
    {
      "cell_type": "code",
      "source": [
        "# Get the value counts of 'location_boston'\n",
        "value_counts = df['gender'].value_counts()\n",
        "\n",
        "# Create a bar plot\n",
        "plt.figure(figsize=(8, 6))\n",
        "value_counts.plot(kind='bar', color='darkblue')\n",
        "plt.title('Value counts of different genders')\n",
        "plt.xlabel('Gender')\n",
        "plt.ylabel('Count')\n",
        "plt.xticks(rotation=45)\n",
        "plt.show()"
      ],
      "metadata": {
        "id": "84WDHJHCRa4D",
        "colab": {
          "base_uri": "https://localhost:8080/",
          "height": 750
        },
        "outputId": "1fa67bb2-36f6-4e86-cba1-10cfbe071e4f"
      },
      "execution_count": 28,
      "outputs": [
        {
          "output_type": "display_data",
          "data": {
            "text/plain": [
              "<Figure size 800x600 with 1 Axes>"
            ],
            "image/png": "[encoded data removed]"
          },
          "metadata": {}
        }
      ]
    },
    {
      "cell_type": "markdown",
      "source": [
        "### Distribution of respondents according to their Age"
      ],
      "metadata": {
        "id": "KTZCLnmzR-C0"
      }
    },
    {
      "cell_type": "code",
      "source": [
        "# Creating a histogram of age distribution\n",
        "plt.figure(figsize=(7, 5))\n",
        "plt.hist(df['age'], bins=20, color='darkblue', edgecolor='black')\n",
        "plt.title('Age Distribution', fontsize=16)\n",
        "plt.xlabel('Age', fontsize=14)\n",
        "plt.ylabel('Frequency', fontsize=14)\n",
        "plt.xticks(fontsize=12)\n",
        "plt.yticks(fontsize=12)\n",
        "plt.tight_layout()\n",
        "plt.show()\n"
      ],
      "metadata": {
        "id": "RReH7mPQSBAF",
        "colab": {
          "base_uri": "https://localhost:8080/",
          "height": 507
        },
        "outputId": "35e58998-b297-4e14-8b57-77d554109964"
      },
      "execution_count": 29,
      "outputs": [
        {
          "output_type": "display_data",
          "data": {
            "text/plain": [
              "<Figure size 700x500 with 1 Axes>"
            ],
            "image/png": "[encoded data removed]"
          },
          "metadata": {}
        }
      ]
    },
    {
      "cell_type": "markdown",
      "source": [
        "### Distribution of respondents according to their Employment Status"
      ],
      "metadata": {
        "id": "YfCfS3-LPmBJ"
      }
    },
    {
      "cell_type": "code",
      "source": [
        "value_counts = df['employment_status'].value_counts()\n",
        "\n",
        "plt.figure(figsize=(7, 5))\n",
        "value_counts.plot(kind='bar', color='darkblue', edgecolor='black')\n",
        "plt.title('Value Counts of Employment Status', fontsize=16)\n",
        "plt.xlabel('Employment Status', fontsize=14)\n",
        "plt.ylabel('Count', fontsize=14)\n",
        "plt.xticks(rotation=45, fontsize=12)\n",
        "plt.yticks(fontsize=12)\n",
        "plt.tight_layout()\n",
        "plt.show()\n"
      ],
      "metadata": {
        "id": "1zTKlXZaSIpo",
        "colab": {
          "base_uri": "https://localhost:8080/",
          "height": 507
        },
        "outputId": "fde0bed0-3289-4a1d-cb7d-65100449c566"
      },
      "execution_count": 30,
      "outputs": [
        {
          "output_type": "display_data",
          "data": {
            "text/plain": [
              "<Figure size 700x500 with 1 Axes>"
            ],
            "image/png": "[encoded data removed]"
          },
          "metadata": {}
        }
      ]
    },
    {
      "cell_type": "markdown",
      "source": [
        "### Distribution of respondents according to their Rent Budget"
      ],
      "metadata": {
        "id": "pX_fls3bSdT7"
      }
    },
    {
      "cell_type": "code",
      "source": [
        "plt.figure(figsize=(7, 5))\n",
        "sns.histplot(data=df, x='rent_budget', bins=20, color='darkblue', edgecolor='black')\n",
        "plt.title('Rent Budget Distribution', fontsize=16)\n",
        "plt.xlabel('Rent Budget', fontsize=14)\n",
        "plt.ylabel('Frequency', fontsize=14)\n",
        "plt.xticks(fontsize=12)\n",
        "plt.yticks(fontsize=12)\n",
        "plt.tight_layout()\n",
        "plt.show()"
      ],
      "metadata": {
        "id": "03mRjMVPSfQV",
        "colab": {
          "base_uri": "https://localhost:8080/",
          "height": 507
        },
        "outputId": "f8d6b57e-c407-4876-8371-0e260fa8f9c7"
      },
      "execution_count": 31,
      "outputs": [
        {
          "output_type": "display_data",
          "data": {
            "text/plain": [
              "<Figure size 700x500 with 1 Axes>"
            ],
            "image/png": "[encoded data removed]"
          },
          "metadata": {}
        }
      ]
    },
    {
      "cell_type": "markdown",
      "source": [
        "### Likelihood to Lease by Apartment Type (Treatment vs Control)"
      ],
      "metadata": {
        "id": "X454ZTgfQKEL"
      }
    },
    {
      "cell_type": "code",
      "source": [
        "# Filtering data where lease is 1 (assuming 1 indicates lease)\n",
        "leased_data = updated_df[updated_df['Q1_lease'] == 1]\n",
        "\n",
        "# Grouping the data by apartment type and treatment\n",
        "grouped_data = leased_data.groupby(['apt', 'treatment']).size().unstack(fill_value=0)\n",
        "grouped_data = grouped_data.div(updated_df.groupby('apt').size(), axis=0) * 100\n",
        "\n",
        "# Plotting the graph\n",
        "plt.figure(figsize=(10, 6))\n",
        "grouped_data.plot(kind='bar', stacked=True, color=['darkblue', 'darkred'])\n",
        "plt.title('Likelihood to Lease by Apartment Type (Treatment vs Control)', fontsize=16)\n",
        "plt.xlabel('Apartment Type', fontsize=14)\n",
        "plt.ylabel('Likelihood to Lease (%)', fontsize=14)\n",
        "plt.xticks(rotation=45, fontsize=12)\n",
        "plt.xticks(ticks=range(len(grouped_data.index)), labels=['5 BEDROOM', '4 BEDROOM', '2 BEDROOM', 'STUDIO', '1 BED'])\n",
        "plt.legend(title='Group', labels=['Control', 'Treatment'], fontsize=12)\n",
        "plt.tight_layout()\n",
        "plt.show()\n"
      ],
      "metadata": {
        "colab": {
          "base_uri": "https://localhost:8080/",
          "height": 504
        },
        "id": "8EXMOAQ4QJKE",
        "outputId": "e618bbc4-875d-4f6c-e5b9-858bf3c47509"
      },
      "execution_count": 32,
      "outputs": [
        {
          "output_type": "display_data",
          "data": {
            "text/plain": [
              "<Figure size 1000x600 with 0 Axes>"
            ]
          },
          "metadata": {}
        },
        {
          "output_type": "display_data",
          "data": {
            "text/plain": [
              "<Figure size 640x480 with 1 Axes>"
            ],
            "image/png": "[encoded data removed]"
          },
          "metadata": {}
        }
      ]
    },
    {
      "cell_type": "markdown",
      "source": [
        "### Average Price Perception by Apartment Type (Treatment vs Control)"
      ],
      "metadata": {
        "id": "IeFyUNo1R3Jx"
      }
    },
    {
      "cell_type": "code",
      "source": [
        "# Group the data by apartment type and treatment for price perception\n",
        "price_perception_grouped = updated_df.groupby(['apt', 'treatment'])['Q2_price_perception'].mean().reset_index()\n",
        "\n",
        "# Plot the graph for price perception with side-by-side bars\n",
        "plt.figure(figsize=(10, 6))\n",
        "barplot = sns.barplot(x='apt', y='Q2_price_perception', hue='treatment', data=price_perception_grouped,\n",
        "                      palette=['darkblue', 'darkred'])\n",
        "plt.title('Average Price Perception by Apartment Type (Treatment vs Control)')\n",
        "plt.xlabel('Apartment Type')\n",
        "plt.ylabel('Average Price Perception')\n",
        "plt.xticks(rotation=45)\n",
        "plt.xticks(ticks=range(len(price_perception_grouped['apt'].unique())),\n",
        "           labels=['5 BEDROOM', '4 BEDROOM', '2 BEDROOM', 'STUDIO', '1 BED'])\n",
        "\n",
        "# Customize legend colors\n",
        "legend = plt.legend(title='Group', labels=['Control', 'Treatment'])\n",
        "for handle, color in zip(legend.legendHandles, ['darkblue', 'darkred']):\n",
        "    handle.set_color(color)\n",
        "\n",
        "plt.grid(False)\n",
        "\n",
        "plt.tight_layout()\n",
        "plt.show()"
      ],
      "metadata": {
        "colab": {
          "base_uri": "https://localhost:8080/",
          "height": 662
        },
        "id": "bW726gBTeydm",
        "outputId": "db5db8d5-ef26-422a-c0e4-263ec5e56a48"
      },
      "execution_count": 33,
      "outputs": [
        {
          "output_type": "stream",
          "name": "stderr",
          "text": [
            "<ipython-input-33-9e0281318d19>:17: MatplotlibDeprecationWarning: The legendHandles attribute was deprecated in Matplotlib 3.7 and will be removed two minor releases later. Use legend_handles instead.\n",
            "  for handle, color in zip(legend.legendHandles, ['darkblue', 'darkred']):\n"
          ]
        },
        {
          "output_type": "display_data",
          "data": {
            "text/plain": [
              "<Figure size 1000x600 with 1 Axes>"
            ],
            "image/png": "[encoded data removed]"
          },
          "metadata": {}
        }
      ]
    },
    {
      "cell_type": "markdown",
      "source": [
        "### Count of Price Perception by Apartment Type"
      ],
      "metadata": {
        "id": "_fZgZXcgSCJ7"
      }
    },
    {
      "cell_type": "code",
      "source": [
        "# Group the data by apartment type and price perception\n",
        "price_perception_grouped = updated_df.groupby(['apt', 'Q2_price_perception']).size().unstack(fill_value=0)\n",
        "\n",
        "# Plot the graph\n",
        "plt.figure(figsize=(10, 6))\n",
        "\n",
        "# Define the width of the bars\n",
        "bar_width = 0.2\n",
        "x = np.arange(len(price_perception_grouped))\n",
        "\n",
        "# Define colors for each price perception category\n",
        "colors = ['#800080', '#00008B', '#8B0000']  # Purple, dark blue, and dark red\n",
        "\n",
        "# Plotting bars for each price perception category\n",
        "plt.bar(x - bar_width, price_perception_grouped[1], width=bar_width, label='Underpriced', color=colors[0])\n",
        "plt.bar(x, price_perception_grouped[2], width=bar_width, label='Fair', color=colors[1])\n",
        "plt.bar(x + bar_width, price_perception_grouped[3], width=bar_width, label='Overpriced', color=colors[2])\n",
        "\n",
        "plt.title('Price Perception by Apartment Type', fontsize=16)\n",
        "plt.xlabel('Apartment Type', fontsize=14)\n",
        "plt.ylabel('Count', fontsize=14)\n",
        "plt.xticks(ticks=x, labels=['5 BEDROOM', '4 BEDROOM', '2 BEDROOM', 'STUDIO', '1 BEDROOM'], rotation=45, fontsize=12)\n",
        "plt.yticks(fontsize=12)\n",
        "plt.legend(title='Price Perception', fontsize=12, title_fontsize=12)\n",
        "plt.grid(False)\n",
        "\n",
        "# Remove gridlines\n",
        "sns.despine(left=True, bottom=True)\n",
        "\n",
        "plt.tight_layout()\n",
        "plt.show()\n"
      ],
      "metadata": {
        "colab": {
          "base_uri": "https://localhost:8080/",
          "height": 607
        },
        "id": "xe6PxYIbe9zF",
        "outputId": "093d321c-81a7-411a-8417-f3e5e5da9766"
      },
      "execution_count": 34,
      "outputs": [
        {
          "output_type": "display_data",
          "data": {
            "text/plain": [
              "<Figure size 1000x600 with 1 Axes>"
            ],
            "image/png": "[encoded data removed]"
          },
          "metadata": {}
        }
      ]
    },
    {
      "cell_type": "markdown",
      "source": [
        "### Count of Lease Likelihood by Apartment Type"
      ],
      "metadata": {
        "id": "odjwBK6hSPtx"
      }
    },
    {
      "cell_type": "code",
      "source": [
        "# Group the data by apartment type and Q1_lease\n",
        "q1_lease_grouped = updated_df.groupby(['apt', 'Q1_lease']).size().unstack(fill_value=0)\n",
        "\n",
        "# Plot the graph\n",
        "plt.figure(figsize=(10, 6))\n",
        "\n",
        "# Define the width of the bars\n",
        "bar_width = 0.2\n",
        "x = np.arange(len(q1_lease_grouped))\n",
        "\n",
        "# Define colors for each lease likelihood category\n",
        "colors = ['#800080', '#00008B', '#8B0000']  # Purple, dark blue, and dark red\n",
        "\n",
        "# Plotting bars for each Q1_lease category\n",
        "plt.bar(x - 1.5 * bar_width, q1_lease_grouped[1] + q1_lease_grouped[2], width=bar_width, label='Unlikely', color=colors[0])\n",
        "plt.bar(x - 0.5 * bar_width, q1_lease_grouped[3], width=bar_width, label='Neither Likely nor Unlikely', color=colors[1])\n",
        "plt.bar(x + 0.5 * bar_width, q1_lease_grouped[4] + q1_lease_grouped[5], width=bar_width, label='Likely', color=colors[2])\n",
        "\n",
        "plt.title('Lease Likelihood by Apartment Type')\n",
        "plt.xlabel('Apartment Type')\n",
        "plt.ylabel('Count')\n",
        "plt.xticks(ticks=x, labels=['5 BEDROOM', '4 BEDROOM', '2 BEDROOM', 'STUDIO', '1 BEDROOM'], rotation=45)\n",
        "\n",
        "# Remove gridlines\n",
        "sns.despine(left=True, bottom=True)\n",
        "plt.grid(False)\n",
        "\n",
        "plt.legend(title='Lease Likelihood')\n",
        "plt.tight_layout()\n",
        "plt.show()"
      ],
      "metadata": {
        "colab": {
          "base_uri": "https://localhost:8080/",
          "height": 607
        },
        "id": "IzUqDOd1fKgF",
        "outputId": "17c3a760-2872-4462-ce8b-15e9abbb9b31"
      },
      "execution_count": 35,
      "outputs": [
        {
          "output_type": "display_data",
          "data": {
            "text/plain": [
              "<Figure size 1000x600 with 1 Axes>"
            ],
            "image/png": "[encoded data removed]"
          },
          "metadata": {}
        }
      ]
    },
    {
      "cell_type": "markdown",
      "source": [
        "## Average Treatment Effect"
      ],
      "metadata": {
        "id": "_fwxNYy1_thw"
      }
    },
    {
      "cell_type": "markdown",
      "source": [
        "### ATE Calculation for Likelihood of renting"
      ],
      "metadata": {
        "id": "iWaeQatCT1rb"
      }
    },
    {
      "cell_type": "code",
      "source": [
        "ATE_rentLikelihood = np.mean(updated_df[updated_df['treatment'] == 1]['Q1_lease']) - np.mean(updated_df[updated_df['treatment'] == 0]['Q1_lease'])\n",
        "print(\"The average treatment effect for likelihood to rent outcome is {:.2f}\".format(ATE_rentLikelihood))"
      ],
      "metadata": {
        "id": "W18afOigekX5",
        "colab": {
          "base_uri": "https://localhost:8080/"
        },
        "outputId": "fc4f0fa6-ee38-419c-eadf-c5c675a8a2df"
      },
      "execution_count": 36,
      "outputs": [
        {
          "output_type": "stream",
          "name": "stdout",
          "text": [
            "The average treatment effect for likelihood to rent outcome is -0.12\n"
          ]
        }
      ]
    },
    {
      "cell_type": "markdown",
      "source": [
        "### ATE Calculation for Price perception"
      ],
      "metadata": {
        "id": "xMesiUOxUAj8"
      }
    },
    {
      "cell_type": "code",
      "source": [
        "ATE_pricePerception = np.mean(updated_df[updated_df['treatment'] == 1]['Q2_price_perception']) - np.mean(updated_df[updated_df['treatment'] == 0]['Q2_price_perception'])\n",
        "print(\"The average treatment effect for price perception outcome is {:.2f}\".format(ATE_pricePerception))\n"
      ],
      "metadata": {
        "colab": {
          "base_uri": "https://localhost:8080/"
        },
        "id": "wShr0Qt8Bw05",
        "outputId": "607667dd-05bf-45db-bde7-6f3dd573cee3"
      },
      "execution_count": 37,
      "outputs": [
        {
          "output_type": "stream",
          "name": "stdout",
          "text": [
            "The average treatment effect for price perception outcome is 0.05\n"
          ]
        }
      ]
    },
    {
      "cell_type": "markdown",
      "source": [
        "### ATE Calculation for Price suggestion"
      ],
      "metadata": {
        "id": "oTYC8HB5UH9u"
      }
    },
    {
      "cell_type": "code",
      "source": [
        "ATE_priceSuggestion = np.mean(updated_df[updated_df['treatment'] == 1]['Q3_price_suggestion']) - np.mean(updated_df[updated_df['treatment'] == 0]['Q3_price_suggestion'])\n",
        "print(\"The average treatment effect for price suggestion outcome is {:.2f}\".format(ATE_priceSuggestion))\n"
      ],
      "metadata": {
        "colab": {
          "base_uri": "https://localhost:8080/"
        },
        "id": "9SO03CluDHWE",
        "outputId": "3804bdf0-c229-4f9f-d07f-95e33f588c75"
      },
      "execution_count": 38,
      "outputs": [
        {
          "output_type": "stream",
          "name": "stdout",
          "text": [
            "The average treatment effect for price suggestion outcome is -54.46\n"
          ]
        }
      ]
    },
    {
      "cell_type": "markdown",
      "source": [
        "## Statistical power calculation"
      ],
      "metadata": {
        "id": "QxOjJZuDDpPm"
      }
    },
    {
      "cell_type": "code",
      "source": [
        "power1 = TTestPower().solve_power(effect_size=ATE_rentLikelihood / np.std(updated_df['Q1_lease']),\n",
        "                                  nobs=len(updated_df),\n",
        "                                  alpha=0.05,\n",
        "                                  power=None,\n",
        "                                  alternative=\"two-sided\")\n",
        "print(\"The statistical power of the t-test for likelihood to rent outcome is {:.2f}.\".format(power1))"
      ],
      "metadata": {
        "colab": {
          "base_uri": "https://localhost:8080/"
        },
        "id": "i4t93sJeDsHa",
        "outputId": "13046110-d406-4d7c-f8a3-f23bbf69f232"
      },
      "execution_count": 39,
      "outputs": [
        {
          "output_type": "stream",
          "name": "stdout",
          "text": [
            "The statistical power of the t-test for likelihood to rent outcome is 0.39.\n"
          ]
        }
      ]
    },
    {
      "cell_type": "code",
      "source": [
        "power2 = TTestPower().solve_power(effect_size=ATE_pricePerception / np.std(updated_df['Q2_price_perception']),\n",
        "                                  nobs=len(updated_df),\n",
        "                                  alpha=0.05,\n",
        "                                  power=None,\n",
        "                                  alternative=\"two-sided\")\n",
        "print(\"The statistical power of the t-test for price perception outcome is {:.2f}.\".format(power2))\n"
      ],
      "metadata": {
        "colab": {
          "base_uri": "https://localhost:8080/"
        },
        "id": "LZ0pDmzoF80m",
        "outputId": "a8c31452-3ced-42f5-ef69-aa7b7aa81d22"
      },
      "execution_count": 40,
      "outputs": [
        {
          "output_type": "stream",
          "name": "stdout",
          "text": [
            "The statistical power of the t-test for price perception outcome is 0.46.\n"
          ]
        }
      ]
    },
    {
      "cell_type": "code",
      "source": [
        "power3 = TTestPower().solve_power(effect_size=ATE_priceSuggestion / np.std(updated_df['Q3_price_suggestion']),\n",
        "                                  nobs=len(updated_df),\n",
        "                                  alpha=0.05,\n",
        "                                  power=None,\n",
        "                                  alternative=\"two-sided\")\n",
        "print(\"The statistical power of the t-test for price suggestion outcome is {:.2f}.\".format(power3))"
      ],
      "metadata": {
        "colab": {
          "base_uri": "https://localhost:8080/"
        },
        "id": "z2FsA34qGadP",
        "outputId": "e0207ea0-36c7-4089-8ef0-b0e0e3984b92"
      },
      "execution_count": 41,
      "outputs": [
        {
          "output_type": "stream",
          "name": "stdout",
          "text": [
            "The statistical power of the t-test for price suggestion outcome is 0.31.\n"
          ]
        }
      ]
    },
    {
      "cell_type": "markdown",
      "source": [
        "### Minimum Sample Size Calculation"
      ],
      "metadata": {
        "id": "t3DVcTX7GmvZ"
      }
    },
    {
      "cell_type": "code",
      "source": [
        "sample1 = TTestPower().solve_power(effect_size=ATE_rentLikelihood / np.std(updated_df['Q1_lease']),\n",
        "                                   nobs=None,\n",
        "                                   alpha=0.05,\n",
        "                                   power=0.8,\n",
        "                                   alternative=\"two-sided\")\n",
        "\n",
        "print(\"The minimum sample size required for 0.8 power for likelihood to rent outcome is {}.\".format(round(sample1, 0)))"
      ],
      "metadata": {
        "colab": {
          "base_uri": "https://localhost:8080/"
        },
        "id": "GZmdIc5VGrzH",
        "outputId": "82a28411-ea73-4905-9920-28b3eab1e914"
      },
      "execution_count": 42,
      "outputs": [
        {
          "output_type": "stream",
          "name": "stdout",
          "text": [
            "The minimum sample size required for 0.8 power for likelihood to rent outcome is 1110.0.\n"
          ]
        }
      ]
    },
    {
      "cell_type": "code",
      "source": [
        "sample2 = TTestPower().solve_power(effect_size=ATE_pricePerception / np.std(updated_df['Q2_price_perception']),\n",
        "                                  nobs=None,\n",
        "                                  alpha=0.05,\n",
        "                                  power=0.8,\n",
        "                                  alternative=\"two-sided\")\n",
        "print(\"The minimum sample size required for 0.8 power for Price Perception outcome is {}.\".format(round(sample2, 0)))"
      ],
      "metadata": {
        "colab": {
          "base_uri": "https://localhost:8080/"
        },
        "id": "oQzIj2gfG2WK",
        "outputId": "c831a599-5515-41a9-8f01-014f271291db"
      },
      "execution_count": 67,
      "outputs": [
        {
          "output_type": "stream",
          "name": "stdout",
          "text": [
            "The minimum sample size required for 0.8 power for Price Perception outcome is 892.0.\n"
          ]
        }
      ]
    },
    {
      "cell_type": "code",
      "source": [
        "sample3 = TTestPower().solve_power(effect_size=ATE_priceSuggestion / np.std(updated_df['Q3_price_suggestion']),\n",
        "                                  nobs=None,\n",
        "                                  alpha=0.05,\n",
        "                                  power=0.8,\n",
        "                                  alternative=\"two-sided\")\n",
        "print(\"The minimum sample size required for 0.8 power for Price Suggestion outcome is {}.\".format(round(sample3, 0)))"
      ],
      "metadata": {
        "colab": {
          "base_uri": "https://localhost:8080/"
        },
        "id": "9eGTKfKZG0n-",
        "outputId": "774014f3-5fee-4bc2-e799-721be015f2ec"
      },
      "execution_count": 68,
      "outputs": [
        {
          "output_type": "stream",
          "name": "stdout",
          "text": [
            "The minimum sample size required for 0.8 power for Price Suggestion outcome is 1438.0.\n"
          ]
        }
      ]
    },
    {
      "cell_type": "markdown",
      "source": [
        "## Conditional Average Treatment Effect"
      ],
      "metadata": {
        "id": "OE64T1NUAjK1"
      }
    },
    {
      "cell_type": "markdown",
      "source": [
        "### Conditional Average Treatment Effect for Male Respondents"
      ],
      "metadata": {
        "id": "k0jRWrD8XQoq"
      }
    },
    {
      "cell_type": "code",
      "source": [
        "male_gender_df= updated_df[updated_df['gender']=='Man']"
      ],
      "metadata": {
        "id": "eJuTBApKSDQb"
      },
      "execution_count": 45,
      "outputs": []
    },
    {
      "cell_type": "code",
      "source": [
        "CATE_gender_male = np.mean(male_gender_df[male_gender_df['treatment'] == 1]['Q1_lease']) - np.mean(male_gender_df[male_gender_df['treatment'] == 0]['Q1_lease'])\n",
        "print(\"The Conditional Average Treatment Effect (CATE) for males is {:.2f}.\".format(CATE_gender_male))"
      ],
      "metadata": {
        "colab": {
          "base_uri": "https://localhost:8080/"
        },
        "id": "Ff08KfhmRoeO",
        "outputId": "973c5268-7a86-4166-95f2-9414832edb99"
      },
      "execution_count": 46,
      "outputs": [
        {
          "output_type": "stream",
          "name": "stdout",
          "text": [
            "The Conditional Average Treatment Effect (CATE) for males is -0.31.\n"
          ]
        }
      ]
    },
    {
      "cell_type": "markdown",
      "source": [
        "### Conditional Average Treatment Effect for Female Respondents"
      ],
      "metadata": {
        "id": "WgRcFzoyXpyH"
      }
    },
    {
      "cell_type": "code",
      "source": [
        "female_gender_df= updated_df[updated_df['gender']=='Woman']"
      ],
      "metadata": {
        "id": "TGG1wcMWTNBk"
      },
      "execution_count": 47,
      "outputs": []
    },
    {
      "cell_type": "code",
      "source": [
        "CATE_gender_female = np.mean(female_gender_df[female_gender_df['treatment'] == 1]['Q1_lease']) - np.mean(female_gender_df[female_gender_df['treatment'] == 0]['Q1_lease'])\n",
        "print(\"The Conditional Average Treatment Effect (CATE) for females is {:.2f}.\".format(CATE_gender_female))"
      ],
      "metadata": {
        "colab": {
          "base_uri": "https://localhost:8080/"
        },
        "id": "UQWVIk5YTqno",
        "outputId": "94812d2a-bd16-4ae2-d31d-c7295e873778"
      },
      "execution_count": 48,
      "outputs": [
        {
          "output_type": "stream",
          "name": "stdout",
          "text": [
            "The Conditional Average Treatment Effect (CATE) for females is 0.08.\n"
          ]
        }
      ]
    },
    {
      "cell_type": "markdown",
      "source": [
        "### Conditional Average Treatment Effect for Respondents residing in Boston"
      ],
      "metadata": {
        "id": "gLehm8lQXtPk"
      }
    },
    {
      "cell_type": "code",
      "source": [
        "location_boston_df= updated_df[updated_df['location_boston']==1]"
      ],
      "metadata": {
        "id": "aWFvsCLWTDdV"
      },
      "execution_count": 49,
      "outputs": []
    },
    {
      "cell_type": "code",
      "source": [
        "CATE_location_boston = np.mean(location_boston_df[location_boston_df['treatment'] == 1]['Q1_lease']) - np.mean(location_boston_df[location_boston_df['treatment'] == 0]['Q1_lease'])\n",
        "print(\"The Conditional Average Treatment Effect (CATE) for Boston location is {:.2f}.\".format(CATE_location_boston))"
      ],
      "metadata": {
        "colab": {
          "base_uri": "https://localhost:8080/"
        },
        "id": "njp6UE17Sy7y",
        "outputId": "5c4b463d-e957-425c-eee3-cf66418d292c"
      },
      "execution_count": 50,
      "outputs": [
        {
          "output_type": "stream",
          "name": "stdout",
          "text": [
            "The Conditional Average Treatment Effect (CATE) for Boston location is -0.24.\n"
          ]
        }
      ]
    },
    {
      "cell_type": "markdown",
      "source": [
        "### Conditional Average Treatment Effect for Respondents residing out of Boston"
      ],
      "metadata": {
        "id": "FlXDCzSAXx9T"
      }
    },
    {
      "cell_type": "code",
      "source": [
        "location_else_df= updated_df[updated_df['location_boston']==0]"
      ],
      "metadata": {
        "id": "Blv5ZksDUQdk"
      },
      "execution_count": 51,
      "outputs": []
    },
    {
      "cell_type": "code",
      "source": [
        "CATE_location_else = np.mean(location_else_df[location_else_df['treatment'] == 1]['Q1_lease']) - np.mean(location_else_df[location_else_df['treatment'] == 0]['Q1_lease'])\n",
        "print(\"The Conditional Average Treatment Effect (CATE) for other locations is {:.2f}.\".format(CATE_location_else))"
      ],
      "metadata": {
        "colab": {
          "base_uri": "https://localhost:8080/"
        },
        "id": "AEeYO9ztUZpC",
        "outputId": "f751b4e0-5e81-427b-d2e5-5702c128e0c7"
      },
      "execution_count": 52,
      "outputs": [
        {
          "output_type": "stream",
          "name": "stdout",
          "text": [
            "The Conditional Average Treatment Effect (CATE) for other locations is 0.08.\n"
          ]
        }
      ]
    },
    {
      "cell_type": "markdown",
      "source": [
        "### Conditional Average Treatment Effect for Respondents that are Unemployed"
      ],
      "metadata": {
        "id": "Jtj6tZh3X84u"
      }
    },
    {
      "cell_type": "code",
      "source": [
        "unemployed_df = updated_df[updated_df['employment_status']==1]"
      ],
      "metadata": {
        "id": "TG6RhmhmV2C4"
      },
      "execution_count": 53,
      "outputs": []
    },
    {
      "cell_type": "code",
      "source": [
        "CATE_unemployed = np.mean(unemployed_df[unemployed_df['treatment'] == 1]['Q1_lease']) - np.mean(unemployed_df[unemployed_df['treatment'] == 0]['Q1_lease'])\n",
        "print(\"The Conditional Average Treatment Effect (CATE) for Unemployed Respondents is {:.2f}.\".format(CATE_unemployed))"
      ],
      "metadata": {
        "colab": {
          "base_uri": "https://localhost:8080/"
        },
        "id": "aeMQcFawWLrt",
        "outputId": "db0cf6f0-41ff-41e4-c4cd-f107361487d8"
      },
      "execution_count": 54,
      "outputs": [
        {
          "output_type": "stream",
          "name": "stdout",
          "text": [
            "The Conditional Average Treatment Effect (CATE) for Unemployed Respondents is -0.18.\n"
          ]
        }
      ]
    },
    {
      "cell_type": "markdown",
      "source": [
        "### Conditional Average Treatment Effect for Respondents that are Employed"
      ],
      "metadata": {
        "id": "a8B_Iih6YPFR"
      }
    },
    {
      "cell_type": "code",
      "source": [
        "employed_df = updated_df[(updated_df['employment_status']==2) | (updated_df['employment_status']==3)]"
      ],
      "metadata": {
        "id": "uxeQAYI0ZHqT"
      },
      "execution_count": 55,
      "outputs": []
    },
    {
      "cell_type": "code",
      "source": [
        "CATE_employed = np.mean(employed_df[employed_df['treatment'] == 1]['Q1_lease']) - np.mean(employed_df[employed_df['treatment'] == 0]['Q1_lease'])\n",
        "print(\"The Conditional Average Treatment Effect (CATE) for Employed Respondents is {:.2f}.\".format(CATE_employed))"
      ],
      "metadata": {
        "colab": {
          "base_uri": "https://localhost:8080/"
        },
        "id": "DyxTrQ88Z7NY",
        "outputId": "388ad2ad-6e01-491a-9924-eabe8d63ef67"
      },
      "execution_count": 56,
      "outputs": [
        {
          "output_type": "stream",
          "name": "stdout",
          "text": [
            "The Conditional Average Treatment Effect (CATE) for Employed Respondents is 0.16.\n"
          ]
        }
      ]
    },
    {
      "cell_type": "markdown",
      "source": [
        "## Proportion Test"
      ],
      "metadata": {
        "id": "n61WfT1Ib1ui"
      }
    },
    {
      "cell_type": "code",
      "source": [
        "n_treated =len(updated_df[updated_df.treatment==1])\n",
        "n = updated_df.shape[0]\n",
        "n_treated, n\n",
        "\n",
        "_, p_val = proportions_ztest(n_treated, n, value = .5)\n",
        "print(f\"The p-value for the proportions test is {p_val:.2} so we reject the null hypothesis of proper randomization\")"
      ],
      "metadata": {
        "colab": {
          "base_uri": "https://localhost:8080/"
        },
        "id": "JLxnkLaGb5AW",
        "outputId": "aa3104b8-6740-4ba7-833d-3bfff8a481e6"
      },
      "execution_count": 57,
      "outputs": [
        {
          "output_type": "stream",
          "name": "stdout",
          "text": [
            "The p-value for the proportions test is 0.023 so we reject the null hypothesis of proper randomization\n"
          ]
        }
      ]
    },
    {
      "cell_type": "markdown",
      "source": [
        "## Regression Analysis"
      ],
      "metadata": {
        "id": "Sw5vE8ILalZ8"
      }
    },
    {
      "cell_type": "code",
      "source": [
        "# Updating column type for regression analysis\n",
        "updated_df.treatment=updated_df.treatment.astype(int)"
      ],
      "metadata": {
        "id": "XamGevdCoYUT"
      },
      "execution_count": 58,
      "outputs": []
    },
    {
      "cell_type": "markdown",
      "source": [
        "### Regression Analysis for Likelihood to lease outcome"
      ],
      "metadata": {
        "id": "XJf5FkAqdfus"
      }
    },
    {
      "cell_type": "code",
      "source": [
        "import statsmodels.api as sm\n",
        "from stargazer.stargazer import Stargazer\n",
        "\n",
        "# Simple regression no covariates\n",
        "reg_likelihood = sm.OLS.from_formula(\"Q1_lease ~ treatment\", data=updated_df).fit(cov_type='HC1')\n",
        "\n",
        "# Adding useful covariates\n",
        "reg_likelihood_age = sm.OLS.from_formula(\"Q1_lease ~ treatment + age\",  data=updated_df).fit(cov_type='HC1')\n",
        "\n",
        "reg_likelihood_location = sm.OLS.from_formula(\"Q1_lease ~ treatment + C(location_boston)\",  data=updated_df).fit(cov_type='HC1')\n",
        "\n",
        "reg_likelihood_employment = sm.OLS.from_formula(\"Q1_lease ~ treatment + C(employment_status)\",  data=updated_df).fit(cov_type='HC1')\n",
        "\n",
        "reg_likelihood_all = sm.OLS.from_formula(\"Q1_lease ~ treatment + age + C(location_boston) + C(employment_status)\",  data=updated_df).fit(cov_type='HC1')\n",
        "\n",
        "# Set the dependent variable name in Stargazer's options\n",
        "stargazer = Stargazer([reg_likelihood, reg_likelihood_age, reg_likelihood_location, reg_likelihood_employment, reg_likelihood_all])\n",
        "stargazer.dependent_variable_name(\"Lease Likelihood\")\n",
        "stargazer\n"
      ],
      "metadata": {
        "colab": {
          "base_uri": "https://localhost:8080/",
          "height": 486
        },
        "id": "8rs2kKBUgvuF",
        "outputId": "15d94820-918e-4de2-c1ff-0606dca7b2af"
      },
      "execution_count": 59,
      "outputs": [
        {
          "output_type": "execute_result",
          "data": {
            "text/plain": [
              "<stargazer.stargazer.Stargazer at 0x7a9eb971f1f0>"
            ],
            "text/html": [
              "<table style=\"text-align:center\"><tr><td colspan=\"6\" style=\"border-bottom: 1px solid black\"></td></tr>\n",
              "<tr><td style=\"text-align:left\"></td><td colspan=\"5\"><em>Dependent variable: Lease Likelihood</em></td></tr><tr><td style=\"text-align:left\"></td><tr><td style=\"text-align:left\"></td><td>(1)</td><td>(2)</td><td>(3)</td><td>(4)</td><td>(5)</td></tr>\n",
              "<tr><td colspan=\"6\" style=\"border-bottom: 1px solid black\"></td></tr>\n",
              "\n",
              "<tr><td style=\"text-align:left\">C(employment_status)[T.2]</td><td></td><td></td><td></td><td>-0.109<sup></sup></td><td>-0.092<sup></sup></td></tr>\n",
              "<tr><td style=\"text-align:left\"></td><td></td><td></td><td></td><td>(0.172)</td><td>(0.204)</td></tr>\n",
              "<tr><td style=\"text-align:left\">C(employment_status)[T.Employed Part-time]</td><td></td><td></td><td></td><td>0.029<sup></sup></td><td>0.050<sup></sup></td></tr>\n",
              "<tr><td style=\"text-align:left\"></td><td></td><td></td><td></td><td>(0.184)</td><td>(0.185)</td></tr>\n",
              "<tr><td style=\"text-align:left\">C(location_boston)[T.1]</td><td></td><td></td><td>0.218<sup></sup></td><td></td><td>0.274<sup></sup></td></tr>\n",
              "<tr><td style=\"text-align:left\"></td><td></td><td></td><td>(0.145)</td><td></td><td>(0.177)</td></tr>\n",
              "<tr><td style=\"text-align:left\">Intercept</td><td>2.755<sup>***</sup></td><td>2.146<sup>***</sup></td><td>2.621<sup>***</sup></td><td>2.789<sup>***</sup></td><td>1.705<sup>***</sup></td></tr>\n",
              "<tr><td style=\"text-align:left\"></td><td>(0.098)</td><td>(0.331)</td><td>(0.129)</td><td>(0.145)</td><td>(0.392)</td></tr>\n",
              "<tr><td style=\"text-align:left\">age</td><td></td><td>0.025<sup>*</sup></td><td></td><td></td><td>0.037<sup>***</sup></td></tr>\n",
              "<tr><td style=\"text-align:left\"></td><td></td><td>(0.013)</td><td></td><td></td><td>(0.014)</td></tr>\n",
              "<tr><td style=\"text-align:left\">treatment</td><td>-0.120<sup></sup></td><td>-0.135<sup></sup></td><td>-0.105<sup></sup></td><td>-0.119<sup></sup></td><td>-0.122<sup></sup></td></tr>\n",
              "<tr><td style=\"text-align:left\"></td><td>(0.145)</td><td>(0.144)</td><td>(0.144)</td><td>(0.145)</td><td>(0.144)</td></tr>\n",
              "\n",
              "<td colspan=\"6\" style=\"border-bottom: 1px solid black\"></td></tr>\n",
              "<tr><td style=\"text-align: left\">Observations</td><td>395</td><td>395</td><td>395</td><td>395</td><td>395</td></tr><tr><td style=\"text-align: left\">R<sup>2</sup></td><td>0.002</td><td>0.010</td><td>0.007</td><td>0.004</td><td>0.022</td></tr><tr><td style=\"text-align: left\">Adjusted R<sup>2</sup></td><td>-0.001</td><td>0.005</td><td>0.002</td><td>-0.004</td><td>0.010</td></tr><tr><td style=\"text-align: left\">Residual Std. Error</td><td>1.432 (df=393)</td><td>1.428 (df=392)</td><td>1.429 (df=392)</td><td>1.434 (df=391)</td><td>1.424 (df=389)</td></tr><tr><td style=\"text-align: left\">F Statistic</td><td>0.692<sup></sup> (df=1; 393)</td><td>2.071<sup></sup> (df=2; 392)</td><td>1.429<sup></sup> (df=2; 392)</td><td>0.454<sup></sup> (df=3; 391)</td><td>2.031<sup>*</sup> (df=5; 389)</td></tr>\n",
              "<tr><td colspan=\"6\" style=\"border-bottom: 1px solid black\"></td></tr><tr><td style=\"text-align: left\">Note:</td><td colspan=\"5\" style=\"text-align: right\"><sup>*</sup>p&lt;0.1; <sup>**</sup>p&lt;0.05; <sup>***</sup>p&lt;0.01</td></tr></table>"
            ]
          },
          "metadata": {},
          "execution_count": 59
        }
      ]
    },
    {
      "cell_type": "markdown",
      "source": [
        "### Regression Analysis for Likelihood to lease outcome with Fixed effects"
      ],
      "metadata": {
        "id": "ytK7fiWHY_HH"
      }
    },
    {
      "cell_type": "code",
      "source": [
        "#adding fixed buget fixed effect\n",
        "reg_likelihood_fe_budget=feols('Q1_lease ~ treatment | rent_budget', data = updated_df, vcov={\"CRV1\": \"response_id\"})\n",
        "\n",
        "#adding employment fixed effect\n",
        "reg_likelihood_fe_emp=feols('Q1_lease ~ treatment | employment_status', data = updated_df,vcov={\"CRV1\": \"response_id\"})\n",
        "\n",
        "#adding location fixed_effect\n",
        "reg_likelihood_fe_location=feols('Q1_lease ~ treatment | location_boston', data = updated_df,vcov={\"CRV1\": \"response_id\"})\n",
        "\n",
        "#adding apartment fixed_effect\n",
        "reg_likelihood_fe_apartment=feols('Q1_lease ~ treatment | apt', data = updated_df,vcov={\"CRV1\": \"response_id\"})\n",
        "\n",
        "etable([reg_likelihood_fe_budget,reg_likelihood_fe_emp,reg_likelihood_fe_location, reg_likelihood_fe_apartment])\n"
      ],
      "metadata": {
        "colab": {
          "base_uri": "https://localhost:8080/"
        },
        "id": "G4bL9yH_hkON",
        "outputId": "01be33ef-f617-46e3-d1a4-75762af14bf5"
      },
      "execution_count": 60,
      "outputs": [
        {
          "output_type": "stream",
          "name": "stdout",
          "text": [
            "                              est1             est2             est3             est4\n",
            "-----------------  ---------------  ---------------  ---------------  ---------------\n",
            "depvar                    Q1_lease         Q1_lease         Q1_lease         Q1_lease\n",
            "-------------------------------------------------------------------------------------\n",
            "treatment           -0.224 (0.241)   -0.119 (0.166)   -0.105 (0.163)   -0.120 (0.167)\n",
            "-------------------------------------------------------------------------------------\n",
            "apt                              -                -                -                x\n",
            "rent_budget                      x                -                -                -\n",
            "location_boston                  -                -                x                -\n",
            "employment_status                -                x                -                -\n",
            "-------------------------------------------------------------------------------------\n",
            "R2                           0.089            0.004            0.007            0.152\n",
            "S.E. type          by: response_id  by: response_id  by: response_id  by: response_id\n",
            "Observations                   280              395              395              395\n",
            "-------------------------------------------------------------------------------------\n",
            "Significance levels: * p < 0.05, ** p < 0.01, *** p < 0.001\n",
            "Format of coefficient cell:\n",
            "Coefficient (Std. Error)\n"
          ]
        },
        {
          "output_type": "stream",
          "name": "stderr",
          "text": [
            "<ipython-input-60-ab547d807a8a>:13: FutureWarning: 'pyfixest.summarize.etable' is deprecated and will be removed in a future version.\n",
            "Please use 'pyfixest.etable' instead. You may refer the updated documentation at: https://s3alfisc.github.io/pyfixest/quickstart.html\n",
            "  etable([reg_likelihood_fe_budget,reg_likelihood_fe_emp,reg_likelihood_fe_location, reg_likelihood_fe_apartment])\n"
          ]
        }
      ]
    },
    {
      "cell_type": "markdown",
      "source": [
        "### Regression Analysis for Price Perception outcome"
      ],
      "metadata": {
        "id": "tlXozO7FdJh2"
      }
    },
    {
      "cell_type": "code",
      "source": [
        "#simple regression no covariates\n",
        "reg_perception= sm.OLS.from_formula(\"Q2_price_perception~ treatment\", data = updated_df).fit(cov_type='HC1')\n",
        "\n",
        "#adding useful covariates\n",
        "\n",
        "reg_perception_age= sm.OLS.from_formula(\"Q2_price_perception~ treatment + age\",  data = updated_df).fit(cov_type='HC1')\n",
        "\n",
        "reg_perception_location= sm.OLS.from_formula(\"Q2_price_perception~ treatment + C(location_boston)\",  data = updated_df).fit(cov_type='HC1')\n",
        "\n",
        "reg_perception_employment= sm.OLS.from_formula(\"Q2_price_perception~ treatment + C(employment_status)\",  data = updated_df).fit(cov_type='HC1')\n",
        "\n",
        "reg_perception_all = sm.OLS.from_formula(\"Q2_price_perception ~ treatment + age + C(location_boston) + C(employment_status) \",  data = updated_df).fit(cov_type='HC1')\n",
        "\n",
        "stargazer=Stargazer([reg_perception,reg_perception_age,reg_perception_location,reg_perception_employment, reg_perception_all])\n",
        "stargazer.dependent_variable_name(\"Price Perception\")\n",
        "stargazer"
      ],
      "metadata": {
        "colab": {
          "base_uri": "https://localhost:8080/",
          "height": 486
        },
        "id": "RFjg2EsUydeg",
        "outputId": "c2c3c1f1-174e-4b13-e034-b5ad41929201"
      },
      "execution_count": 61,
      "outputs": [
        {
          "output_type": "execute_result",
          "data": {
            "text/plain": [
              "<stargazer.stargazer.Stargazer at 0x7a9eb26f1ab0>"
            ],
            "text/html": [
              "<table style=\"text-align:center\"><tr><td colspan=\"6\" style=\"border-bottom: 1px solid black\"></td></tr>\n",
              "<tr><td style=\"text-align:left\"></td><td colspan=\"5\"><em>Dependent variable: Price Perception</em></td></tr><tr><td style=\"text-align:left\"></td><tr><td style=\"text-align:left\"></td><td>(1)</td><td>(2)</td><td>(3)</td><td>(4)</td><td>(5)</td></tr>\n",
              "<tr><td colspan=\"6\" style=\"border-bottom: 1px solid black\"></td></tr>\n",
              "\n",
              "<tr><td style=\"text-align:left\">C(employment_status)[T.2]</td><td></td><td></td><td></td><td>0.059<sup></sup></td><td>0.016<sup></sup></td></tr>\n",
              "<tr><td style=\"text-align:left\"></td><td></td><td></td><td></td><td>(0.070)</td><td>(0.079)</td></tr>\n",
              "<tr><td style=\"text-align:left\">C(employment_status)[T.Employed Part-time]</td><td></td><td></td><td></td><td>0.105<sup></sup></td><td>0.103<sup></sup></td></tr>\n",
              "<tr><td style=\"text-align:left\"></td><td></td><td></td><td></td><td>(0.073)</td><td>(0.073)</td></tr>\n",
              "<tr><td style=\"text-align:left\">C(location_boston)[T.1]</td><td></td><td></td><td>-0.056<sup></sup></td><td></td><td>-0.063<sup></sup></td></tr>\n",
              "<tr><td style=\"text-align:left\"></td><td></td><td></td><td>(0.060)</td><td></td><td>(0.068)</td></tr>\n",
              "<tr><td style=\"text-align:left\">Intercept</td><td>2.414<sup>***</sup></td><td>2.346<sup>***</sup></td><td>2.448<sup>***</sup></td><td>2.362<sup>***</sup></td><td>2.364<sup>***</sup></td></tr>\n",
              "<tr><td style=\"text-align:left\"></td><td>(0.039)</td><td>(0.132)</td><td>(0.053)</td><td>(0.056)</td><td>(0.158)</td></tr>\n",
              "<tr><td style=\"text-align:left\">age</td><td></td><td>0.003<sup></sup></td><td></td><td></td><td>0.002<sup></sup></td></tr>\n",
              "<tr><td style=\"text-align:left\"></td><td></td><td>(0.005)</td><td></td><td></td><td>(0.006)</td></tr>\n",
              "<tr><td style=\"text-align:left\">treatment</td><td>0.055<sup></sup></td><td>0.053<sup></sup></td><td>0.051<sup></sup></td><td>0.053<sup></sup></td><td>0.048<sup></sup></td></tr>\n",
              "<tr><td style=\"text-align:left\"></td><td>(0.060)</td><td>(0.060)</td><td>(0.059)</td><td>(0.060)</td><td>(0.060)</td></tr>\n",
              "\n",
              "<td colspan=\"6\" style=\"border-bottom: 1px solid black\"></td></tr>\n",
              "<tr><td style=\"text-align: left\">Observations</td><td>395</td><td>395</td><td>395</td><td>395</td><td>395</td></tr><tr><td style=\"text-align: left\">R<sup>2</sup></td><td>0.002</td><td>0.003</td><td>0.004</td><td>0.007</td><td>0.010</td></tr><tr><td style=\"text-align: left\">Adjusted R<sup>2</sup></td><td>-0.000</td><td>-0.002</td><td>-0.001</td><td>-0.001</td><td>-0.003</td></tr><tr><td style=\"text-align: left\">Residual Std. Error</td><td>0.586 (df=393)</td><td>0.587 (df=392)</td><td>0.586 (df=392)</td><td>0.586 (df=391)</td><td>0.587 (df=389)</td></tr><tr><td style=\"text-align: left\">F Statistic</td><td>0.851<sup></sup> (df=1; 393)</td><td>0.562<sup></sup> (df=2; 392)</td><td>0.773<sup></sup> (df=2; 392)</td><td>0.978<sup></sup> (df=3; 391)</td><td>0.816<sup></sup> (df=5; 389)</td></tr>\n",
              "<tr><td colspan=\"6\" style=\"border-bottom: 1px solid black\"></td></tr><tr><td style=\"text-align: left\">Note:</td><td colspan=\"5\" style=\"text-align: right\"><sup>*</sup>p&lt;0.1; <sup>**</sup>p&lt;0.05; <sup>***</sup>p&lt;0.01</td></tr></table>"
            ]
          },
          "metadata": {},
          "execution_count": 61
        }
      ]
    },
    {
      "cell_type": "markdown",
      "source": [
        "### Regression Analysis for Price Perception outcome with Fixed effects"
      ],
      "metadata": {
        "id": "2z5x_H-eZY9f"
      }
    },
    {
      "cell_type": "code",
      "source": [
        "#adding fixed buget fixed effect\n",
        "reg_perception_fe_budget=feols('Q2_price_perception ~ treatment | rent_budget', data = updated_df, vcov={\"CRV1\": \"response_id\"})\n",
        "\n",
        "#adding employment fixed effect\n",
        "reg_perception_fe_emp=feols('Q2_price_perception ~ treatment | employment_status', data = updated_df,vcov={\"CRV1\": \"response_id\"})\n",
        "\n",
        "#adding location fixed_effect\n",
        "reg_perception_fe_location=feols('Q2_price_perception ~ treatment | location_boston', data = updated_df,vcov={\"CRV1\": \"response_id\"})\n",
        "\n",
        "#adding apartments fixed_effect\n",
        "reg_perception_fe_apartment=feols('Q2_price_perception ~ treatment | apt', data = updated_df,vcov={\"CRV1\": \"response_id\"})\n",
        "\n",
        "etable([reg_perception_fe_budget,reg_perception_fe_emp,reg_perception_fe_location, reg_perception_fe_apartment])"
      ],
      "metadata": {
        "colab": {
          "base_uri": "https://localhost:8080/"
        },
        "id": "zqOZFdiN1Q8o",
        "outputId": "a4afd2e3-aa4f-45a9-836c-619f79f99330"
      },
      "execution_count": 62,
      "outputs": [
        {
          "output_type": "stream",
          "name": "stdout",
          "text": [
            "                                  est1                 est2                 est3                 est4\n",
            "-----------------  -------------------  -------------------  -------------------  -------------------\n",
            "depvar             Q2_price_perception  Q2_price_perception  Q2_price_perception  Q2_price_perception\n",
            "-----------------------------------------------------------------------------------------------------\n",
            "treatment                0.020 (0.106)        0.053 (0.070)        0.051 (0.070)        0.055 (0.071)\n",
            "-----------------------------------------------------------------------------------------------------\n",
            "apt                                  -                    -                    -                    x\n",
            "rent_budget                          x                    -                    -                    -\n",
            "location_boston                      -                    -                    x                    -\n",
            "employment_status                    -                    x                    -                    -\n",
            "-----------------------------------------------------------------------------------------------------\n",
            "R2                               0.108                0.007                0.004                0.142\n",
            "S.E. type              by: response_id      by: response_id      by: response_id      by: response_id\n",
            "Observations                       280                  395                  395                  395\n",
            "-----------------------------------------------------------------------------------------------------\n",
            "Significance levels: * p < 0.05, ** p < 0.01, *** p < 0.001\n",
            "Format of coefficient cell:\n",
            "Coefficient (Std. Error)\n"
          ]
        },
        {
          "output_type": "stream",
          "name": "stderr",
          "text": [
            "<ipython-input-62-7fa520f4c776>:13: FutureWarning: 'pyfixest.summarize.etable' is deprecated and will be removed in a future version.\n",
            "Please use 'pyfixest.etable' instead. You may refer the updated documentation at: https://s3alfisc.github.io/pyfixest/quickstart.html\n",
            "  etable([reg_perception_fe_budget,reg_perception_fe_emp,reg_perception_fe_location, reg_perception_fe_apartment])\n"
          ]
        }
      ]
    },
    {
      "cell_type": "markdown",
      "source": [
        "### Regression Analysis for Price Suggestion outcome"
      ],
      "metadata": {
        "id": "67a6sLSsdQAf"
      }
    },
    {
      "cell_type": "code",
      "source": [
        "#simple regression no covariates\n",
        "reg_suggestion= sm.OLS.from_formula(\"Q3_price_suggestion~ treatment\", data = updated_df).fit(cov_type='HC1')\n",
        "\n",
        "#adding useful covariates\n",
        "\n",
        "reg_suggestion_age= sm.OLS.from_formula(\"Q3_price_suggestion~ treatment + age\",  data = updated_df).fit(cov_type='HC1')\n",
        "\n",
        "reg_suggestion_location= sm.OLS.from_formula(\"Q3_price_suggestion~ treatment + C(location_boston)\",  data = updated_df).fit(cov_type='HC1')\n",
        "\n",
        "reg_suggestion_employment= sm.OLS.from_formula(\"Q3_price_suggestion~ treatment + C(employment_status)\",  data = updated_df).fit(cov_type='HC1')\n",
        "\n",
        "reg_suggestion_all = sm.OLS.from_formula(\"Q3_price_suggestion ~ treatment + age + C(location_boston) + C(employment_status) \",  data = updated_df).fit(cov_type='HC1')\n",
        "\n",
        "stargazer=Stargazer([reg_suggestion,reg_suggestion_age,reg_suggestion_location,reg_suggestion_employment, reg_suggestion_all])\n",
        "stargazer.dependent_variable_name(\"Price Suggestion\")\n",
        "stargazer"
      ],
      "metadata": {
        "colab": {
          "base_uri": "https://localhost:8080/",
          "height": 486
        },
        "id": "9-JGhioKaosL",
        "outputId": "edffd98f-1fe6-4ae6-8cfc-cafb48284afa"
      },
      "execution_count": 63,
      "outputs": [
        {
          "output_type": "execute_result",
          "data": {
            "text/plain": [
              "<stargazer.stargazer.Stargazer at 0x7a9eb26df220>"
            ],
            "text/html": [
              "<table style=\"text-align:center\"><tr><td colspan=\"6\" style=\"border-bottom: 1px solid black\"></td></tr>\n",
              "<tr><td style=\"text-align:left\"></td><td colspan=\"5\"><em>Dependent variable: Price Suggestion</em></td></tr><tr><td style=\"text-align:left\"></td><tr><td style=\"text-align:left\"></td><td>(1)</td><td>(2)</td><td>(3)</td><td>(4)</td><td>(5)</td></tr>\n",
              "<tr><td colspan=\"6\" style=\"border-bottom: 1px solid black\"></td></tr>\n",
              "\n",
              "<tr><td style=\"text-align:left\">C(employment_status)[T.2]</td><td></td><td></td><td></td><td>5.560<sup></sup></td><td>107.489<sup></sup></td></tr>\n",
              "<tr><td style=\"text-align:left\"></td><td></td><td></td><td></td><td>(90.607)</td><td>(105.290)</td></tr>\n",
              "<tr><td style=\"text-align:left\">C(employment_status)[T.Employed Part-time]</td><td></td><td></td><td></td><td>9.424<sup></sup></td><td>21.747<sup></sup></td></tr>\n",
              "<tr><td style=\"text-align:left\"></td><td></td><td></td><td></td><td>(93.967)</td><td>(92.035)</td></tr>\n",
              "<tr><td style=\"text-align:left\">C(location_boston)[T.1]</td><td></td><td></td><td>173.322<sup>**</sup></td><td></td><td>259.791<sup>***</sup></td></tr>\n",
              "<tr><td style=\"text-align:left\"></td><td></td><td></td><td>(75.234)</td><td></td><td>(89.743)</td></tr>\n",
              "<tr><td style=\"text-align:left\">Intercept</td><td>2187.356<sup>***</sup></td><td>2016.098<sup>***</sup></td><td>2081.000<sup>***</sup></td><td>2182.638<sup>***</sup></td><td>1705.819<sup>***</sup></td></tr>\n",
              "<tr><td style=\"text-align:left\"></td><td>(45.903)</td><td>(150.180)</td><td>(64.528)</td><td>(72.724)</td><td>(187.945)</td></tr>\n",
              "<tr><td style=\"text-align:left\">age</td><td></td><td>6.971<sup></sup></td><td></td><td></td><td>11.179<sup>*</sup></td></tr>\n",
              "<tr><td style=\"text-align:left\"></td><td></td><td>(5.867)</td><td></td><td></td><td>(6.419)</td></tr>\n",
              "<tr><td style=\"text-align:left\">treatment</td><td>-54.461<sup></sup></td><td>-58.666<sup></sup></td><td>-42.193<sup></sup></td><td>-54.659<sup></sup></td><td>-44.565<sup></sup></td></tr>\n",
              "<tr><td style=\"text-align:left\"></td><td>(76.161)</td><td>(76.594)</td><td>(75.873)</td><td>(76.350)</td><td>(76.453)</td></tr>\n",
              "\n",
              "<td colspan=\"6\" style=\"border-bottom: 1px solid black\"></td></tr>\n",
              "<tr><td style=\"text-align: left\">Observations</td><td>395</td><td>395</td><td>395</td><td>395</td><td>395</td></tr><tr><td style=\"text-align: left\">R<sup>2</sup></td><td>0.001</td><td>0.004</td><td>0.015</td><td>0.001</td><td>0.025</td></tr><tr><td style=\"text-align: left\">Adjusted R<sup>2</sup></td><td>-0.001</td><td>-0.001</td><td>0.010</td><td>-0.006</td><td>0.013</td></tr><tr><td style=\"text-align: left\">Residual Std. Error</td><td>737.929 (df=393)</td><td>738.007 (df=392)</td><td>733.896 (df=392)</td><td>739.804 (df=391)</td><td>732.772 (df=389)</td></tr><tr><td style=\"text-align: left\">F Statistic</td><td>0.511<sup></sup> (df=1; 393)</td><td>0.866<sup></sup> (df=2; 392)</td><td>2.874<sup>*</sup> (df=2; 392)</td><td>0.173<sup></sup> (df=3; 391)</td><td>2.147<sup>*</sup> (df=5; 389)</td></tr>\n",
              "<tr><td colspan=\"6\" style=\"border-bottom: 1px solid black\"></td></tr><tr><td style=\"text-align: left\">Note:</td><td colspan=\"5\" style=\"text-align: right\"><sup>*</sup>p&lt;0.1; <sup>**</sup>p&lt;0.05; <sup>***</sup>p&lt;0.01</td></tr></table>"
            ]
          },
          "metadata": {},
          "execution_count": 63
        }
      ]
    },
    {
      "cell_type": "markdown",
      "source": [
        "### Regression Analysis for Price Suggestion outcome with Fixed effects"
      ],
      "metadata": {
        "id": "VLIRdSrzZm5-"
      }
    },
    {
      "cell_type": "code",
      "source": [
        "#adding fixed buget fixed effect\n",
        "reg_suggestion_fe_budget=feols('Q3_price_suggestion ~ treatment | rent_budget', data = updated_df, vcov={\"CRV1\": \"response_id\"})\n",
        "\n",
        "#adding employment fixed effect\n",
        "reg_suggestion_fe_emp=feols('Q3_price_suggestion ~ treatment | employment_status', data = updated_df,vcov={\"CRV1\": \"response_id\"})\n",
        "\n",
        "#adding location fixed_effect\n",
        "reg_suggestion_fe_location=feols('Q3_price_suggestion ~ treatment | location_boston', data = updated_df,vcov={\"CRV1\": \"response_id\"})\n",
        "\n",
        "#adding apartments fixed_effect\n",
        "reg_suggestion_fe_apartment=feols('Q3_price_suggestion ~ treatment | apt', data = updated_df,vcov={\"CRV1\": \"response_id\"})\n",
        "\n",
        "etable([reg_suggestion_fe_budget,reg_suggestion_fe_emp,reg_suggestion_fe_location, reg_suggestion_fe_apartment])\n"
      ],
      "metadata": {
        "colab": {
          "base_uri": "https://localhost:8080/"
        },
        "id": "F18NRY2L2xok",
        "outputId": "44b49e87-8cc6-44a5-b721-00cd44849d68"
      },
      "execution_count": 64,
      "outputs": [
        {
          "output_type": "stream",
          "name": "stdout",
          "text": [
            "                                  est1                 est2                 est3                 est4\n",
            "-----------------  -------------------  -------------------  -------------------  -------------------\n",
            "depvar             Q3_price_suggestion  Q3_price_suggestion  Q3_price_suggestion  Q3_price_suggestion\n",
            "-----------------------------------------------------------------------------------------------------\n",
            "treatment             -6.794 (256.086)    -54.659 (167.177)    -42.193 (166.368)    -54.461 (167.182)\n",
            "-----------------------------------------------------------------------------------------------------\n",
            "apt                                  -                    -                    -                    x\n",
            "rent_budget                          x                    -                    -                    -\n",
            "location_boston                      -                    -                    x                    -\n",
            "employment_status                    -                    x                    -                    -\n",
            "-----------------------------------------------------------------------------------------------------\n",
            "R2                               0.324                0.001                0.015                0.004\n",
            "S.E. type              by: response_id      by: response_id      by: response_id      by: response_id\n",
            "Observations                       280                  395                  395                  395\n",
            "-----------------------------------------------------------------------------------------------------\n",
            "Significance levels: * p < 0.05, ** p < 0.01, *** p < 0.001\n",
            "Format of coefficient cell:\n",
            "Coefficient (Std. Error)\n"
          ]
        },
        {
          "output_type": "stream",
          "name": "stderr",
          "text": [
            "<ipython-input-64-b921b1d25e50>:13: FutureWarning: 'pyfixest.summarize.etable' is deprecated and will be removed in a future version.\n",
            "Please use 'pyfixest.etable' instead. You may refer the updated documentation at: https://s3alfisc.github.io/pyfixest/quickstart.html\n",
            "  etable([reg_suggestion_fe_budget,reg_suggestion_fe_emp,reg_suggestion_fe_location, reg_suggestion_fe_apartment])\n"
          ]
        }
      ]
    },
    {
      "cell_type": "markdown",
      "source": [
        "### Scatterplot for Price Suggestion vs Age with the regression line"
      ],
      "metadata": {
        "id": "0L6uZLE4CMhK"
      }
    },
    {
      "cell_type": "code",
      "source": [
        "# Calculating mean price suggestion for control and treatment groups\n",
        "control_mean = updated_df[updated_df['treatment'] == 0]['Q3_price_suggestion'].mean()\n",
        "treatment_mean = updated_df[updated_df['treatment'] == 1]['Q3_price_suggestion'].mean()\n",
        "\n",
        "# Scatter plot for Age vs Q3_price_suggestion with treatment as hue\n",
        "plt.figure(figsize=(10, 6))\n",
        "sns.scatterplot(data=updated_df, x='age', y='Q3_price_suggestion', hue='treatment', palette='Set1')\n",
        "\n",
        "# Adding regression line\n",
        "sns.regplot(data=updated_df, x='age', y='Q3_price_suggestion', scatter=False, color='black', line_kws={\"linewidth\":2},ci=None)\n",
        "\n",
        "# Add lines for mean price suggestion of control and treatment groups\n",
        "plt.axhline(y=control_mean, color='blue', linestyle='--', label='Control Mean', zorder=1)\n",
        "plt.axhline(y=treatment_mean, color='red', linestyle='--', label='Treatment Mean', zorder=1)\n",
        "\n",
        "# Set y-axis limits to include mean values\n",
        "y_min = min(control_mean, treatment_mean) - 1630\n",
        "y_max = max(control_mean, treatment_mean) + 1630\n",
        "plt.ylim(y_min, y_max)\n",
        "\n",
        "plt.title('Price Suggestion vs Age')\n",
        "plt.xlabel('Age')\n",
        "plt.ylabel('Price Suggestion')\n",
        "plt.legend(title='Treatment', labels=['Control', 'Treatment'], loc='upper right')\n",
        "plt.show()"
      ],
      "metadata": {
        "id": "x35DGAF-Z8UU",
        "colab": {
          "base_uri": "https://localhost:8080/",
          "height": 564
        },
        "outputId": "a28a0416-d965-466c-82fa-33aef7fd7315"
      },
      "execution_count": 65,
      "outputs": [
        {
          "output_type": "display_data",
          "data": {
            "text/plain": [
              "<Figure size 1000x600 with 1 Axes>"
            ],
            "image/png": "[encoded data removed]"
          },
          "metadata": {}
        }
      ]
    },
    {
      "cell_type": "markdown",
      "source": [
        "### Scatterplot for Price Suggestion vs Rent Budget with the regression line"
      ],
      "metadata": {
        "id": "el7BxFlaCUWD"
      }
    },
    {
      "cell_type": "code",
      "source": [
        "# Reset index of the DataFrame\n",
        "updated_df.reset_index(drop=True, inplace=True)\n",
        "\n",
        "# Calculate mean price suggestion for control and treatment groups\n",
        "control_mean = updated_df[updated_df['treatment'] == 0]['Q3_price_suggestion'].mean()\n",
        "treatment_mean = updated_df[updated_df['treatment'] == 1]['Q3_price_suggestion'].mean()\n",
        "\n",
        "# Scatter plot for Rent Budget vs Price Suggestion with treatment as hue\n",
        "plt.figure(figsize=(10, 6))\n",
        "\n",
        "# Scatter plot with hue\n",
        "sns.scatterplot(data=updated_df, x='rent_budget', y='Q3_price_suggestion', hue='treatment', palette='Set1', legend=False)\n",
        "\n",
        "# Add regression line without the shaded area\n",
        "sns.regplot(data=updated_df, x='rent_budget', y='Q3_price_suggestion', scatter=False, color='black', line_kws={\"linewidth\":2}, ci=None)\n",
        "\n",
        "# Add lines for mean price suggestion of control and treatment groups\n",
        "plt.axhline(y=control_mean, color='blue', linestyle='--', label='Control Mean', zorder=1)\n",
        "plt.axhline(y=treatment_mean, color='red', linestyle='--', label='Treatment Mean', zorder=1)\n",
        "\n",
        "# Set y-axis limits to include mean values\n",
        "y_min = min(control_mean, treatment_mean) - 1630\n",
        "y_max = max(control_mean, treatment_mean) + 1630\n",
        "plt.ylim(y_min, y_max)\n",
        "\n",
        "plt.title('Price Suggestion vs Rent Budget')\n",
        "plt.xlabel('Rent Budget')\n",
        "plt.ylabel('Price Suggestion')\n",
        "plt.legend(title='Treatment', loc='upper left')\n",
        "plt.show()\n"
      ],
      "metadata": {
        "colab": {
          "base_uri": "https://localhost:8080/",
          "height": 564
        },
        "id": "Vkvs0yPPf7e8",
        "outputId": "4e962176-274f-4b97-db57-ca82a83f991b"
      },
      "execution_count": 66,
      "outputs": [
        {
          "output_type": "display_data",
          "data": {
            "text/plain": [
              "<Figure size 1000x600 with 1 Axes>"
            ],
            "image/png": "[encoded data removed]"
          },
          "metadata": {}
        }
      ]
    }
  ]
}